{
 "cells": [
  {
   "cell_type": "code",
   "execution_count": null,
   "id": "8b6ec4a0",
   "metadata": {},
   "outputs": [],
   "source": [
    "# Dictionaries"
   ]
  },
  {
   "cell_type": "markdown",
   "id": "5d1a5fde",
   "metadata": {},
   "source": [
    "# Conditionlas"
   ]
  },
  {
   "cell_type": "markdown",
   "id": "34c099ea",
   "metadata": {},
   "source": [
    "### IF statments \n",
    "if (somenthing_is_true):\n",
    "    do this "
   ]
  },
  {
   "cell_type": "code",
   "execution_count": null,
   "id": "10703616",
   "metadata": {},
   "outputs": [],
   "source": [
    "x = 4\n",
    "r = x % 2\n",
    "\n",
    "if r == 0:\n",
    "    print('The number x is even ')\n",
    "    \n",
    "print('Hello Hopperites')"
   ]
  },
  {
   "cell_type": "markdown",
   "id": "97669dbd",
   "metadata": {},
   "source": [
    "# Function \n"
   ]
  },
  {
   "cell_type": "markdown",
   "id": "22e59983",
   "metadata": {},
   "source": [
    " ## Functions\n",
    " \n",
    " - *Functions:* are reusable blocks of code. we use functions to name blocks of code. Then we can call the block of code by its name.\n",
    " Functions are powerful tool for creating abstractions to hide the implementation.\n",
    " - *Variables:* are the *nouns*  in our code and funvtions are verbs. They do things.\n",
    "The ability to name abstractions allows us to create solutions in the language of the problem.\n",
    "\n",
    "- Set of instructions => algorithm \n",
    "- list of instructions with a name \n",
    "\n",
    "### Built-in Fuctions \n",
    "'len','type', 'abs', 'str', 'sum', 'range', etc are built-in functions\n",
    "\n",
    "### Definding our own functions\n",
    "\n",
    "1. Define the Functino\n"
   ]
  },
  {
   "cell_type": "code",
   "execution_count": null,
   "id": "b910c1bd",
   "metadata": {},
   "outputs": [],
   "source": [
    "def name_of_function_here(parameter_name_here):\n",
    "    \"\"\"This function adds 1 to any input. String inputs produce an error\"\"\"\n",
    "    return x + 1"
   ]
  },
  {
   "cell_type": "markdown",
   "id": "d16ac124",
   "metadata": {},
   "source": [
    "#\n",
    "2. Call the fuction \n",
    "'add_one(5)' will return '6'\n",
    "\n",
    "## Takeaways to konow\n",
    "- functions run from the inside out\n",
    "- methods.run().from().left().to().right()\n",
    "- Methods are functions defined and then called directlu from objects, like lists or strings\n",
    "- Yuor ability to write and use functions define your capability to customize your solutions\n",
    "- Always returning vallues from functions.W/o 'return', functions return 'None'\n",
    "    - Recommend using input variables and variables local to your function iinstead of globals. "
   ]
  },
  {
   "cell_type": "markdown",
   "id": "6819b19d",
   "metadata": {},
   "source": [
    "## Each function creates its own scope\n",
    "That means that variables are independent per function. A variable created in a function only exists within the function. "
   ]
  },
  {
   "cell_type": "markdown",
   "id": "f8922c08",
   "metadata": {},
   "source": [
    "## Muktiple Arguments and default argumrnts\n"
   ]
  },
  {
   "cell_type": "code",
   "execution_count": null,
   "id": "b5e25fae",
   "metadata": {},
   "outputs": [],
   "source": [
    "def add(x, y):\n",
    "    \"\"\"Adds x and y together\"\"\"\n",
    "    return x + y\n"
   ]
  },
  {
   "cell_type": "markdown",
   "id": "87bb4cf8",
   "metadata": {},
   "source": [
    "## Lambda Functions\n",
    "- A lambda is an anonymous function\n",
    "- Lambdas are super popular in math\n",
    "- Lambdas are helpful if you don't need to reuse a function (or have it named)\n",
    "- Lambdas are just functions\n",
    "- Lambdas in Python are functioction budy itself\n",
    "- Lambdas in Python are only one liners\n",
    "- The return is automatic/implicit"
   ]
  },
  {
   "cell_type": "code",
   "execution_count": 2,
   "id": "dde2c49a",
   "metadata": {},
   "outputs": [],
   "source": [
    "add_two = lambda x: x + 2"
   ]
  },
  {
   "cell_type": "code",
   "execution_count": 3,
   "id": "fe9f7dd5",
   "metadata": {},
   "outputs": [
    {
     "data": {
      "text/plain": [
       "5"
      ]
     },
     "execution_count": 3,
     "metadata": {},
     "output_type": "execute_result"
    }
   ],
   "source": [
    "add_two(3)"
   ]
  },
  {
   "cell_type": "markdown",
   "id": "20671815",
   "metadata": {},
   "source": [
    "###  But where are lambdas actually useful instead of alternate syntax?"
   ]
  },
  {
   "cell_type": "code",
   "execution_count": 7,
   "id": "5fb14cb6",
   "metadata": {},
   "outputs": [
    {
     "ename": "SyntaxError",
     "evalue": "invalid syntax (<ipython-input-7-47d92dc42684>, line 4)",
     "output_type": "error",
     "traceback": [
      "\u001b[0;36m  File \u001b[0;32m\"<ipython-input-7-47d92dc42684>\"\u001b[0;36m, line \u001b[0;32m4\u001b[0m\n\u001b[0;31m    \"price\": 100_000\u001b[0m\n\u001b[0m           ^\u001b[0m\n\u001b[0;31mSyntaxError\u001b[0m\u001b[0;31m:\u001b[0m invalid syntax\n"
     ]
    }
   ],
   "source": [
    "boats = [\n",
    "    {\n",
    "        \"type\": \"tugboat\"\n",
    "        \"price\": 100_000\n",
    "    },\n",
    "    {\n",
    "        \"typer\": \"crazyboat\"\n",
    "        \"price\": 100_000\n",
    "        \"\n",
    "    },\n",
    "    {\n",
    "        \"typer\": \"paperboat\"\n",
    "        \"price\": 0.005\n",
    "    }\n",
    "]"
   ]
  },
  {
   "cell_type": "code",
   "execution_count": 6,
   "id": "3e2554f9",
   "metadata": {},
   "outputs": [
    {
     "ename": "NameError",
     "evalue": "name 'boats' is not defined",
     "output_type": "error",
     "traceback": [
      "\u001b[0;31m---------------------------------------------------------------------------\u001b[0m",
      "\u001b[0;31mNameError\u001b[0m                                 Traceback (most recent call last)",
      "\u001b[0;32m<ipython-input-6-461f4ff2a9b4>\u001b[0m in \u001b[0;36m<module>\u001b[0;34m\u001b[0m\n\u001b[1;32m      2\u001b[0m \u001b[0;31m# this works with min and max\u001b[0m\u001b[0;34m\u001b[0m\u001b[0;34m\u001b[0m\u001b[0;34m\u001b[0m\u001b[0m\n\u001b[1;32m      3\u001b[0m \u001b[0;31m# key = lambda object[key]\u001b[0m\u001b[0;34m\u001b[0m\u001b[0;34m\u001b[0m\u001b[0;34m\u001b[0m\u001b[0m\n\u001b[0;32m----> 4\u001b[0;31m \u001b[0msorted\u001b[0m\u001b[0;34m(\u001b[0m\u001b[0mboats\u001b[0m\u001b[0;34m,\u001b[0m \u001b[0mkey\u001b[0m\u001b[0;34m=\u001b[0m \u001b[0;32mlambda\u001b[0m \u001b[0mx\u001b[0m\u001b[0;34m:\u001b[0m \u001b[0mx\u001b[0m\u001b[0;34m[\u001b[0m\u001b[0;34m\"price\"\u001b[0m\u001b[0;34m]\u001b[0m\u001b[0;34m)\u001b[0m\u001b[0;34m\u001b[0m\u001b[0;34m\u001b[0m\u001b[0m\n\u001b[0m",
      "\u001b[0;31mNameError\u001b[0m: name 'boats' is not defined"
     ]
    }
   ],
   "source": [
    "#Second argument is optional\n",
    "# this works with min and max\n",
    "# key = lambda object[key]\n",
    "sorted(boats, key= lambda x: x[\"price\"])"
   ]
  },
  {
   "cell_type": "code",
   "execution_count": null,
   "id": "a2080c3f",
   "metadata": {},
   "outputs": [],
   "source": [
    "min(booats, key=sort_by_price)"
   ]
  },
  {
   "cell_type": "code",
   "execution_count": null,
   "id": "a06ae700",
   "metadata": {},
   "outputs": [],
   "source": [
    "max(booats, key=sort_by_price)"
   ]
  },
  {
   "cell_type": "code",
   "execution_count": null,
   "id": "adb991f8",
   "metadata": {
    "collapsed": true
   },
   "outputs": [],
   "source": []
  }
 ],
 "metadata": {
  "kernelspec": {
   "display_name": "Python 3",
   "language": "python",
   "name": "python3"
  },
  "language_info": {
   "codemirror_mode": {
    "name": "ipython",
    "version": 3
   },
   "file_extension": ".py",
   "mimetype": "text/x-python",
   "name": "python",
   "nbconvert_exporter": "python",
   "pygments_lexer": "ipython3",
   "version": "3.8.8"
  }
 },
 "nbformat": 4,
 "nbformat_minor": 5
}
