{
 "cells": [
  {
   "cell_type": "code",
   "execution_count": null,
   "id": "8b6ec4a0",
   "metadata": {},
   "outputs": [],
   "source": [
    "# Dictionaries"
   ]
  },
  {
   "cell_type": "markdown",
   "id": "5d1a5fde",
   "metadata": {},
   "source": [
    "# Conditionlas"
   ]
  },
  {
   "cell_type": "markdown",
   "id": "34c099ea",
   "metadata": {},
   "source": [
    "### IF statments \n",
    "if (somenthing_is_true):\n",
    "    do this "
   ]
  },
  {
   "cell_type": "code",
   "execution_count": null,
   "id": "10703616",
   "metadata": {},
   "outputs": [],
   "source": [
    "x = 4\n",
    "r = x % 2\n",
    "\n",
    "if r == 0:\n",
    "    print('The number x is even ')\n",
    "    \n",
    "print('Hello Hopperites')"
   ]
  }
 ],
 "metadata": {
  "kernelspec": {
   "display_name": "Python 3",
   "language": "python",
   "name": "python3"
  },
  "language_info": {
   "codemirror_mode": {
    "name": "ipython",
    "version": 3
   },
   "file_extension": ".py",
   "mimetype": "text/x-python",
   "name": "python",
   "nbconvert_exporter": "python",
   "pygments_lexer": "ipython3",
   "version": "3.8.8"
  }
 },
 "nbformat": 4,
 "nbformat_minor": 5
}
