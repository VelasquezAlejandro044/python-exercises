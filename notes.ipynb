{
 "cells": [
  {
   "cell_type": "code",
   "execution_count": null,
   "id": "8b6ec4a0",
   "metadata": {},
   "outputs": [],
   "source": [
    "# Dictionaries"
   ]
  },
  {
   "cell_type": "markdown",
   "id": "5d1a5fde",
   "metadata": {},
   "source": [
    "# Conditionlas"
   ]
  },
  {
   "cell_type": "markdown",
   "id": "34c099ea",
   "metadata": {},
   "source": [
    "### IF statments \n",
    "if (somenthing_is_true):\n",
    "    do this "
   ]
  },
  {
   "cell_type": "code",
   "execution_count": null,
   "id": "10703616",
   "metadata": {},
   "outputs": [],
   "source": [
    "x = 4\n",
    "r = x % 2\n",
    "\n",
    "if r == 0:\n",
    "    print('The number x is even ')\n",
    "    \n",
    "print('Hello Hopperites')"
   ]
  },
  {
   "cell_type": "markdown",
   "id": "97669dbd",
   "metadata": {},
   "source": [
    "# Function \n"
   ]
  },
  {
   "cell_type": "markdown",
   "id": "22e59983",
   "metadata": {},
   "source": [
    " ## Functions\n",
    " \n",
    " - *Functions:* are reusable blocks of code. we use functions to name blocks of code. Then we can call the block of code by its name.\n",
    " Functions are powerful tool for creating abstractions to hide the implementation.\n",
    " - *Variables:* are the *nouns*  in our code and funvtions are verbs. They do things.\n",
    "The ability to name abstractions allows us to create solutions in the language of the problem.\n",
    "\n",
    "- Set of instructions => algorithm \n",
    "- list of instructions with a name \n",
    "\n",
    "### Built-in Fuctions \n",
    "'len','type', 'abs', 'str', 'sum', 'range', etc are built-in functions\n",
    "\n",
    "### Definding our own functions\n",
    "\n",
    "1. Define the Functino\n"
   ]
  },
  {
   "cell_type": "code",
   "execution_count": null,
   "id": "b910c1bd",
   "metadata": {},
   "outputs": [],
   "source": [
    "def name_of_function_here(parameter_name_here):\n",
    "    \"\"\"This function adds 1 to any input. String inputs produce an error\"\"\"\n",
    "    return x + 1"
   ]
  },
  {
   "cell_type": "markdown",
   "id": "d16ac124",
   "metadata": {},
   "source": [
    "#\n",
    "2. Call the fuction \n",
    "'add_one(5)' will return '6'\n",
    "\n",
    "## Takeaways to konow\n",
    "- functions run from the inside out\n",
    "- `methods.run().from().left().to().right()`\n",
    "- Methods are functions defined and then called directlu from objects, like lists or strings\n",
    "- Yuor ability to write and use functions define your capability to customize your solutions\n",
    "- Always returning vallues from functions.W/o `return`, functions return `None`\n",
    "    - Recommend using input variables and variables local to your function iinstead of globals. "
   ]
  },
  {
   "cell_type": "markdown",
   "id": "6819b19d",
   "metadata": {},
   "source": [
    "## Each function creates its own scope\n",
    "That means that variables are independent per function. A variable created in a function only exists within the function. "
   ]
  },
  {
   "cell_type": "markdown",
   "id": "f8922c08",
   "metadata": {},
   "source": [
    "## Muktiple Arguments and default argumrnts\n"
   ]
  },
  {
   "cell_type": "code",
   "execution_count": null,
   "id": "b5e25fae",
   "metadata": {},
   "outputs": [],
   "source": [
    "def add(x, y):\n",
    "    \"\"\"Adds x and y together\"\"\"\n",
    "    return x + y\n"
   ]
  },
  {
   "cell_type": "markdown",
   "id": "87bb4cf8",
   "metadata": {},
   "source": [
    "## Lambda Functions\n",
    "- A lambda is an anonymous function\n",
    "- Lambdas are super popular in math\n",
    "- Lambdas are helpful if you don't need to reuse a function (or have it named)\n",
    "- Lambdas are just functions\n",
    "- Lambdas in Python are functioction budy itself\n",
    "- Lambdas in Python are only one liners\n",
    "- The return is automatic/implicit"
   ]
  },
  {
   "cell_type": "code",
   "execution_count": 2,
   "id": "dde2c49a",
   "metadata": {},
   "outputs": [],
   "source": [
    "add_two = lambda x: x + 2"
   ]
  },
  {
   "cell_type": "code",
   "execution_count": 3,
   "id": "fe9f7dd5",
   "metadata": {},
   "outputs": [
    {
     "data": {
      "text/plain": [
       "5"
      ]
     },
     "execution_count": 3,
     "metadata": {},
     "output_type": "execute_result"
    }
   ],
   "source": [
    "add_two(3)"
   ]
  },
  {
   "cell_type": "markdown",
   "id": "20671815",
   "metadata": {},
   "source": [
    "###  But where are lambdas actually useful instead of alternate syntax?"
   ]
  },
  {
   "cell_type": "code",
   "execution_count": 7,
   "id": "5fb14cb6",
   "metadata": {},
   "outputs": [
    {
     "ename": "SyntaxError",
     "evalue": "invalid syntax (<ipython-input-7-47d92dc42684>, line 4)",
     "output_type": "error",
     "traceback": [
      "\u001b[0;36m  File \u001b[0;32m\"<ipython-input-7-47d92dc42684>\"\u001b[0;36m, line \u001b[0;32m4\u001b[0m\n\u001b[0;31m    \"price\": 100_000\u001b[0m\n\u001b[0m           ^\u001b[0m\n\u001b[0;31mSyntaxError\u001b[0m\u001b[0;31m:\u001b[0m invalid syntax\n"
     ]
    }
   ],
   "source": [
    "boats = [\n",
    "    {\n",
    "        \"type\": \"tugboat\"\n",
    "        \"price\": 100_000\n",
    "    },\n",
    "    {\n",
    "        \"typer\": \"crazyboat\"\n",
    "        \"price\": 100_000\n",
    "        \"\n",
    "    },\n",
    "    {\n",
    "        \"typer\": \"paperboat\"\n",
    "        \"price\": 0.005\n",
    "    }\n",
    "]"
   ]
  },
  {
   "cell_type": "code",
   "execution_count": 6,
   "id": "3e2554f9",
   "metadata": {},
   "outputs": [
    {
     "ename": "NameError",
     "evalue": "name 'boats' is not defined",
     "output_type": "error",
     "traceback": [
      "\u001b[0;31m---------------------------------------------------------------------------\u001b[0m",
      "\u001b[0;31mNameError\u001b[0m                                 Traceback (most recent call last)",
      "\u001b[0;32m<ipython-input-6-461f4ff2a9b4>\u001b[0m in \u001b[0;36m<module>\u001b[0;34m\u001b[0m\n\u001b[1;32m      2\u001b[0m \u001b[0;31m# this works with min and max\u001b[0m\u001b[0;34m\u001b[0m\u001b[0;34m\u001b[0m\u001b[0;34m\u001b[0m\u001b[0m\n\u001b[1;32m      3\u001b[0m \u001b[0;31m# key = lambda object[key]\u001b[0m\u001b[0;34m\u001b[0m\u001b[0;34m\u001b[0m\u001b[0;34m\u001b[0m\u001b[0m\n\u001b[0;32m----> 4\u001b[0;31m \u001b[0msorted\u001b[0m\u001b[0;34m(\u001b[0m\u001b[0mboats\u001b[0m\u001b[0;34m,\u001b[0m \u001b[0mkey\u001b[0m\u001b[0;34m=\u001b[0m \u001b[0;32mlambda\u001b[0m \u001b[0mx\u001b[0m\u001b[0;34m:\u001b[0m \u001b[0mx\u001b[0m\u001b[0;34m[\u001b[0m\u001b[0;34m\"price\"\u001b[0m\u001b[0;34m]\u001b[0m\u001b[0;34m)\u001b[0m\u001b[0;34m\u001b[0m\u001b[0;34m\u001b[0m\u001b[0m\n\u001b[0m",
      "\u001b[0;31mNameError\u001b[0m: name 'boats' is not defined"
     ]
    }
   ],
   "source": [
    "#Second argument is optional\n",
    "# this works with min and max\n",
    "# key = lambda object[key]\n",
    "sorted(boats, key= lambda x: x[\"price\"])"
   ]
  },
  {
   "cell_type": "code",
   "execution_count": null,
   "id": "a2080c3f",
   "metadata": {},
   "outputs": [],
   "source": [
    "min(booats, key=sort_by_price)"
   ]
  },
  {
   "cell_type": "code",
   "execution_count": null,
   "id": "a06ae700",
   "metadata": {},
   "outputs": [],
   "source": [
    "max(booats, key=sort_by_price)"
   ]
  },
  {
   "cell_type": "markdown",
   "id": "f3b2112c",
   "metadata": {},
   "source": [
    " "
   ]
  },
  {
   "cell_type": "markdown",
   "id": "7cafff21",
   "metadata": {
    "collapsed": true
   },
   "source": [
    "# Impprt Lesson\n",
    "We import linbraries or modules into our current python session in order to use the function, methods, or variables"
   ]
  },
  {
   "cell_type": "markdown",
   "id": "ed4a0856",
   "metadata": {},
   "source": [
    "## installing packages\n",
    "\n",
    "conda install some package\n",
    "\n",
    "pip install somepackege"
   ]
  },
  {
   "cell_type": "markdown",
   "id": "0367b7db",
   "metadata": {},
   "source": [
    "## Importing\n",
    "\n",
    "*Import moduele* Use code:\n",
    "    - ` import some_module`\n",
    "    \n",
    "*Import ONLY one function from a modure* Use code:\n",
    "        - `from some_module import some_function as aliaa`"
   ]
  },
  {
   "cell_type": "markdown",
   "id": "a26cbaef",
   "metadata": {},
   "source": [
    "### Alias\n",
    "\n",
    "- Use `as` after the import and add `alias`\n",
    "    - `import numppy as np`\n",
    "    \n",
    "    - Use:\n",
    "        z = np.repeat(3, 5)"
   ]
  },
  {
   "cell_type": "markdown",
   "id": "9d09b4f4",
   "metadata": {},
   "source": [
    "## Import own code\n",
    "\n",
    "When importing your own code, reference the name of the file without the .py  extension. \n",
    "\n",
    "in order to import from another file, that file's name(everything before the .py file extention) "
   ]
  },
  {
   "cell_type": "code",
   "execution_count": null,
   "id": "93370b40",
   "metadata": {},
   "outputs": [],
   "source": []
  },
  {
   "cell_type": "markdown",
   "id": "2fbe95da",
   "metadata": {},
   "source": [
    "# matplotlib\n",
    "##### www.matplotlib.com\n",
    "\n",
    "### Python module to create visializations\n",
    "\n",
    "- Most often used during *exploration* phase of data science pipeline"
   ]
  },
  {
   "cell_type": "markdown",
   "id": "50eb8c44",
   "metadata": {},
   "source": [
    "### Why visulize data?\n",
    "\n",
    "for datascience, visulize to:\n",
    "1. Understand data/trends\n",
    "2. Commicate interesting faindings\n",
    "\n",
    "## Objectives \n",
    "1. How to plot using matplotlb -learn syntax\n",
    "2. Ability to understand other's code\n",
    "3. How to loookup documentation to customize your plots\n",
    "4. Think abou wjat type of plot is  appropriate for tje data you have"
   ]
  },
  {
   "cell_type": "markdown",
   "id": "cd87918e",
   "metadata": {},
   "source": [
    "### Different types of charts\n",
    "\n",
    "The choice of the chart/plot type depends on what the data type you are working on. Some of the most comon ones:\n",
    "\n",
    "- Lineplot\n",
    "- Scatter plots\n",
    "- histogram\n",
    "- Bar charts\n",
    "\n",
    "Other Examples: https://matplotlib.org/stable/gallery/index.html\n",
    "\n",
    "Sample plots: https://matplotlib.org/stable/tutorials/introductory/sample_plots.html\n",
    "\n",
    "Animations example: http://bit.ly/2G1NxuU"
   ]
  },
  {
   "cell_type": "code",
   "execution_count": null,
   "id": "40829015",
   "metadata": {},
   "outputs": [],
   "source": [
    "In Matplotlib, the figure (an instance of the class plt.Figure) can be thought of as a single container that contains all the objects representing axes, graphics, text, and labels.  \n",
    "\n",
    "The axes (an instance of the class plt.Axes) is what we see above: a bounding box with ticks and labels, which will eventually contain the plot elements that make up our visualization\n",
    "\n"
   ]
  },
  {
   "cell_type": "code",
   "execution_count": 1,
   "id": "ad9801f0",
   "metadata": {},
   "outputs": [],
   "source": [
    "#import pyplot module as alias plt\n",
    "import matplotlib.pyplot as plt  \n",
    "\n",
    "#import other libraries \n",
    "import numpy as np\n",
    "import math\n",
    "from random import randint\n",
    "import random\n",
    "import pandas as pd"
   ]
  },
  {
   "cell_type": "markdown",
   "id": "2603de4c",
   "metadata": {},
   "source": [
    "## Lineplot - Plot y vs. x as lines \n",
    "\n",
    "https://matplotlib.org/3.3.3/api/_as_gen/matplotlib.pyplot.plot.html\n",
    "\n",
    "##### In general, lineplot are ideal for showing trends in data at equal intervals or over time. With some datasets, you may want to understand changes in one variable as a function of time, or a similarly continuous variable. In this situation,using a line plot is a good choice."
   ]
  },
  {
   "cell_type": "code",
   "execution_count": null,
   "id": "5991a9fa",
   "metadata": {},
   "outputs": [],
   "source": []
  },
  {
   "cell_type": "code",
   "execution_count": null,
   "id": "a905c4c4",
   "metadata": {},
   "outputs": [],
   "source": [
    "y = [2,3,4,6,8]"
   ]
  },
  {
   "cell_type": "code",
   "execution_count": null,
   "id": "6aa2dced",
   "metadata": {},
   "outputs": [],
   "source": [
    "# 2019 Survey Link: https://insights.stackoverflow.com/survey/2019\n",
    "\n",
    "#Respondents age\n",
    "age = [25, 26, 27, 28, 29, 30, 31, 32, 33, 34, 35]\n",
    "\n",
    "# Overall Median Developer Salaries by Age\n",
    "dev_y = [38496, 42000, 46752, 49320, 53200,\n",
    "         56000, 62316, 64928, 67317, 68748, 73752]\n",
    "\n",
    "\n",
    "# Median Python Developer Salaries by Age\n",
    "py_dev_y = [45372, 48876, 53850, 57287, 63016,\n",
    "            65998, 70003, 70000, 71496, 75370, 83640]\n",
    "\n",
    "\n",
    "# Median JavaScript Developer Salaries by Age\n",
    "js_dev_y = [37810, 43515, 46823, 49293, 53437,\n",
    "            56373, 62375, 66674, 68745, 68746, 74583]"
   ]
  },
  {
   "cell_type": "code",
   "execution_count": null,
   "id": "00fb9700",
   "metadata": {},
   "outputs": [],
   "source": []
  },
  {
   "cell_type": "code",
   "execution_count": null,
   "id": "68cbf096",
   "metadata": {},
   "outputs": [],
   "source": []
  },
  {
   "cell_type": "markdown",
   "id": "32adcfdd",
   "metadata": {},
   "source": [
    "#  Line Plot recap\n",
    "\n",
    "Lineplot Recap\n",
    "Line plot use for numeric and ordered data (typically x axis is time)\n",
    "\n",
    "show trends in data\n",
    "Make a plot\n",
    "\n",
    "plt.plot(arguments)\n",
    "\n",
    "Customize your plots Add labels/legends/gridlines/annotations.."
   ]
  },
  {
   "cell_type": "markdown",
   "id": "c71b36e1",
   "metadata": {},
   "source": [
    "### Mini Exercise "
   ]
  },
  {
   "cell_type": "code",
   "execution_count": 11,
   "id": "cf6b06cc",
   "metadata": {
    "scrolled": true
   },
   "outputs": [
    {
     "ename": "NameError",
     "evalue": "name 'dic' is not defined",
     "output_type": "error",
     "traceback": [
      "\u001b[0;31m---------------------------------------------------------------------------\u001b[0m",
      "\u001b[0;31mNameError\u001b[0m                                 Traceback (most recent call last)",
      "\u001b[0;32m<ipython-input-11-3afc09fa8904>\u001b[0m in \u001b[0;36m<module>\u001b[0;34m\u001b[0m\n\u001b[1;32m     35\u001b[0m \u001b[0;31m# annotate the plot to show value of y when x = 7\u001b[0m\u001b[0;34m\u001b[0m\u001b[0;34m\u001b[0m\u001b[0;34m\u001b[0m\u001b[0m\n\u001b[1;32m     36\u001b[0m \u001b[0;34m\u001b[0m\u001b[0m\n\u001b[0;32m---> 37\u001b[0;31m \u001b[0mplt\u001b[0m\u001b[0;34m.\u001b[0m\u001b[0mannotate\u001b[0m\u001b[0;34m(\u001b[0m\u001b[0;34m\"this number\"\u001b[0m\u001b[0;34m,\u001b[0m \u001b[0;34m(\u001b[0m\u001b[0;36m7\u001b[0m\u001b[0;34m,\u001b[0m \u001b[0;36m16\u001b[0m\u001b[0;34m)\u001b[0m\u001b[0;34m,\u001b[0m \u001b[0;34m(\u001b[0m\u001b[0;36m5\u001b[0m\u001b[0;34m,\u001b[0m \u001b[0;36m60\u001b[0m\u001b[0;34m)\u001b[0m\u001b[0;34m,\u001b[0m \u001b[0marrowprops\u001b[0m \u001b[0;34m=\u001b[0m \u001b[0mdic\u001b[0m\u001b[0;34m(\u001b[0m\u001b[0;34m)\u001b[0m\u001b[0;34m)\u001b[0m\u001b[0;34m\u001b[0m\u001b[0;34m\u001b[0m\u001b[0m\n\u001b[0m",
      "\u001b[0;31mNameError\u001b[0m: name 'dic' is not defined"
     ]
    },
    {
     "data": {
      "image/png": "[encoded data removed]",
      "text/plain": [
       "<Figure size 432x288 with 1 Axes>"
      ]
     },
     "metadata": {
      "needs_background": "light"
     },
     "output_type": "display_data"
    }
   ],
   "source": [
    "# use the data below to plot x and y\n",
    "x = [1,2,3,4,5,6,7]\n",
    "y = [100/x for x in x]\n",
    "\n",
    "# use plt.plot() to make a lineplot for x vs y\n",
    "plt.plot(x, y, color = 'r', ls = '--', marker ='o')\n",
    "\n",
    "# add title to the plot using plt.title('...') notation. The chart should\n",
    "# be named 'My first matplotlib figure'\n",
    "plt.title(\"Alejandro's first matplotlib figure\")\n",
    "\n",
    "# add approproiate label for x and y axis using plt.xlabel('..') and plt.ylabel('..')\n",
    "plt.xlabel('x - axis')\n",
    "plt.ylabel('y - axis')\n",
    "\n",
    "# add gridlines to the figure\n",
    "plt.grid()\n",
    "\n",
    "# Look up documention for plt.ylim() or plt.xlim() \n",
    "#use plt.ylim() and plt.xlim() to limit x and y axis limits.\n",
    "# For example: plt.xlim(0,7)  \n",
    "plt.ylim(0, 100)\n",
    "plt.xlim(1, 7)\n",
    "\n",
    "\n",
    "# Go back above to plt.plot() and add paramaters to do the following:\n",
    "# The line color should be red\n",
    "\n",
    "# the marker should be 'o'\n",
    "\n",
    "# the linestyle should be '--'\n",
    "\n",
    "# add labels\n",
    "\n",
    "# annotate the plot to show value of y when x = 7\n",
    "         \n",
    "plt.annotate(\"this number\", (7, 16), (5, 60), arrowprops = dic())"
   ]
  },
  {
   "cell_type": "markdown",
   "id": "a6c24bdd",
   "metadata": {},
   "source": [
    "## Scatter plot:  to explore relationship or correlation between two numeric variables"
   ]
  },
  {
   "cell_type": "code",
   "execution_count": 12,
   "id": "77e68323",
   "metadata": {},
   "outputs": [],
   "source": [
    "import pandas as pd\n",
    "\n",
    "df = pd.read_csv('https://raw.githubusercontent.com/ravinder79/data/main/insurance.csv')\n",
    "\n",
    "# assign BMI as x labels for smokers and non-smokers\n",
    "bmi_smoker = list(df[df.smoker == 'yes'].bmi)\n",
    "bmi_nonsmoker = list(df[df.smoker == 'no'].bmi)\n",
    "\n",
    "#assign insurance charges as y labels for smokers and non-smokers\n",
    "charges_smoker = list(df[df.smoker == 'yes'].charges)\n",
    "charges_nonsmoker = list(df[df.smoker == 'no'].charges)\n",
    "\n"
   ]
  },
  {
   "cell_type": "code",
   "execution_count": 17,
   "id": "363ede7c",
   "metadata": {},
   "outputs": [
    {
     "ename": "NameError",
     "evalue": "name 'chrages_smokers' is not defined",
     "output_type": "error",
     "traceback": [
      "\u001b[0;31m---------------------------------------------------------------------------\u001b[0m",
      "\u001b[0;31mNameError\u001b[0m                                 Traceback (most recent call last)",
      "\u001b[0;32m<ipython-input-17-1399229f161d>\u001b[0m in \u001b[0;36m<module>\u001b[0;34m\u001b[0m\n\u001b[1;32m      2\u001b[0m \u001b[0mplt\u001b[0m\u001b[0;34m.\u001b[0m\u001b[0mfigure\u001b[0m\u001b[0;34m(\u001b[0m\u001b[0mfigsize\u001b[0m \u001b[0;34m=\u001b[0m \u001b[0;34m(\u001b[0m\u001b[0;36m8\u001b[0m\u001b[0;34m,\u001b[0m \u001b[0;36m6\u001b[0m\u001b[0;34m)\u001b[0m\u001b[0;34m)\u001b[0m\u001b[0;34m\u001b[0m\u001b[0;34m\u001b[0m\u001b[0m\n\u001b[1;32m      3\u001b[0m \u001b[0;34m\u001b[0m\u001b[0m\n\u001b[0;32m----> 4\u001b[0;31m \u001b[0mcharges_smokers\u001b[0m \u001b[0;34m=\u001b[0m \u001b[0;34m[\u001b[0m\u001b[0mcharges\u001b[0m \u001b[0;32mfor\u001b[0m \u001b[0mcharges\u001b[0m \u001b[0;32min\u001b[0m \u001b[0mchrages_smokers\u001b[0m\u001b[0;34m]\u001b[0m\u001b[0;34m\u001b[0m\u001b[0;34m\u001b[0m\u001b[0m\n\u001b[0m\u001b[1;32m      5\u001b[0m \u001b[0;34m\u001b[0m\u001b[0m\n\u001b[1;32m      6\u001b[0m plt.scatter(bmi_smoker, charges_smoker,\n",
      "\u001b[0;31mNameError\u001b[0m: name 'chrages_smokers' is not defined"
     ]
    },
    {
     "data": {
      "text/plain": [
       "<Figure size 576x432 with 0 Axes>"
      ]
     },
     "metadata": {},
     "output_type": "display_data"
    }
   ],
   "source": [
    "# plot the data (scatter chart)\n",
    "plt.figure(figsize = (8, 6))\n",
    "\n",
    "charges_smokers = [charges for charges in chrages_smokers]\n",
    "\n",
    "plt.scatter(bmi_smoker, charges_smoker,\n",
    "            color = \"r\",\n",
    "            s = 20,\n",
    "            label = 'smokers')\n",
    "            \n",
    "plt.scatter(bmi_nonsmokers, chargers_nonsmokers,\n",
    "            color = \"g\",\n",
    "            label = \"non-smokers\")\n",
    "\n",
    "plt.title(\"Insurance charges vs BMI\", fontsize =14)\n",
    "plt.xlable(\"BMI\")           \n",
    "plt.ylable(\"Insurance charges (USD)\")\n",
    "            \n",
    "plt.legend()"
   ]
  },
  {
   "cell_type": "markdown",
   "id": "8ce5fe67",
   "metadata": {},
   "source": [
    "# \n",
    "Conclusions from data:\n",
    "\n",
    "Smokers cost more money to insurance\n",
    "For smokers, higher the BMI, higher the charges"
   ]
  },
  {
   "cell_type": "code",
   "execution_count": null,
   "id": "f1577f4a",
   "metadata": {},
   "outputs": [],
   "source": []
  }
 ],
 "metadata": {
  "kernelspec": {
   "display_name": "Python 3",
   "language": "python",
   "name": "python3"
  },
  "language_info": {
   "codemirror_mode": {
    "name": "ipython",
    "version": 3
   },
   "file_extension": ".py",
   "mimetype": "text/x-python",
   "name": "python",
   "nbconvert_exporter": "python",
   "pygments_lexer": "ipython3",
   "version": "3.8.8"
  }
 },
 "nbformat": 4,
 "nbformat_minor": 5
}
