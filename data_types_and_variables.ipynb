{
 "cells": [
  {
   "cell_type": "markdown",
   "id": "5bb09920",
   "metadata": {},
   "source": [
    "### A \n",
    "You have rented some movies for your kids: The little mermaid (for 3 days), Brother Bear (for 5 days, they love it), and Hercules (1 day, you don't know yet if they're going to like it). If price for a movie per day is 3 dollars, how much will you have to pay?"
   ]
  },
  {
   "cell_type": "code",
   "execution_count": 1,
   "id": "0d9c72ef",
   "metadata": {},
   "outputs": [
    {
     "name": "stdout",
     "output_type": "stream",
     "text": [
      "27\n"
     ]
    }
   ],
   "source": [
    "L = 3 * 3\n",
    "B = 3 * 5 \n",
    "H = 3 * 1 \n",
    "\n",
    "print(L + B + H)\n",
    "    "
   ]
  },
  {
   "cell_type": "markdown",
   "id": "e36192d0",
   "metadata": {},
   "source": [
    "### B\n",
    "Suppose you're working as a contractor for 3 companies: Google, Amazon and Facebook, they pay you a different rate per hour. Google pays 400 dollars per hour, Amazon 380, and Facebook 350. How much will you receive in payment for this week? You worked 10 hours for Facebook, 6 hours for Google and 4 hours for Amazon."
   ]
  },
  {
   "cell_type": "code",
   "execution_count": 2,
   "id": "306eb311",
   "metadata": {},
   "outputs": [
    {
     "name": "stdout",
     "output_type": "stream",
     "text": [
      "7420\n"
     ]
    }
   ],
   "source": [
    "G = 400\n",
    "A = 380\n",
    "F = 350\n",
    "\n",
    "print(G*6 + A*4 + F*10)"
   ]
  },
  {
   "cell_type": "markdown",
   "id": "f8394bb9",
   "metadata": {},
   "source": [
    "### C \n",
    "A student can be enrolled to a class only if the class is not full and the class schedule does not conflict with her current schedule."
   ]
  },
  {
   "cell_type": "code",
   "execution_count": 6,
   "id": "6e14598a",
   "metadata": {},
   "outputs": [
    {
     "name": "stdout",
     "output_type": "stream",
     "text": [
      "<function cann_i_enroll at 0x7ff9f0a57700>\n"
     ]
    }
   ],
   "source": [
    "class_full = False  \n",
    "class_schedule_ conflict = False \n",
    "\n",
    "can_NOT_enroll = class_full and class_schedule_ conflict"
   ]
  },
  {
   "cell_type": "markdown",
   "id": "81c652ce",
   "metadata": {},
   "source": [
    "### D\n",
    "A product offer can be applied only if people buys more than 2 items, and the offer has not expired. Premium members do not need to buy a specific amount of products."
   ]
  },
  {
   "cell_type": "code",
   "execution_count": null,
   "id": "3498dc90",
   "metadata": {},
   "outputs": [],
   "source": [
    "def product_offer(costomer.status, num_of _items):\n",
    "    costomer.status = True\n",
    "    num_of _items = 0\n",
    "    offer_exp_date = 9999/12/31\n",
    "    if costomer.status == regular:\n",
    "        if num_of _items > 2 and offer_exp_date > now():\n",
    "            return 'Offer can be applaied'\n",
    "        else:\n",
    "            return 'Offer not aplied'\n",
    "    else:\n",
    "        return 'Thanks for premium mebership! offer has been aplied!'\n",
    "    \n",
    "    "
   ]
  },
  {
   "cell_type": "markdown",
   "id": "4e82f428",
   "metadata": {},
   "source": [
    "### Create a variable that holds a boolean value for each of the following conditions:\n",
    "- the password must be at least 5 characters\n",
    "- the username must be no more than 20 characters\n",
    "- the password must not be the same as the username\n",
    "- bonus neither the username or password can start or end with whitespace"
   ]
  },
  {
   "cell_type": "code",
   "execution_count": 3,
   "id": "f34a66d1",
   "metadata": {},
   "outputs": [],
   "source": [
    "username = 'codeup'\n",
    "password = 'notastrongpassword'\n",
    "\n",
    "is_lenth_password_five_char = len(password) >= 5 \n",
    "is_lenth_username_20 = len(username) <= 20\n",
    "is_password_equal_username = password == username\n"
   ]
  },
  {
   "cell_type": "code",
   "execution_count": 8,
   "id": "c45b7803",
   "metadata": {},
   "outputs": [
    {
     "name": "stdout",
     "output_type": "stream",
     "text": [
      "True\n"
     ]
    }
   ],
   "source": [
    "no_white_space_start_and_end = password[0] != ' ' and password[-1] != ' ' and username[0] != ' ' and username[-1] != ' '\n",
    "print(no_white)"
   ]
  }
 ],
 "metadata": {
  "kernelspec": {
   "display_name": "Python 3",
   "language": "python",
   "name": "python3"
  },
  "language_info": {
   "codemirror_mode": {
    "name": "ipython",
    "version": 3
   },
   "file_extension": ".py",
   "mimetype": "text/x-python",
   "name": "python",
   "nbconvert_exporter": "python",
   "pygments_lexer": "ipython3",
   "version": "3.8.8"
  }
 },
 "nbformat": 4,
 "nbformat_minor": 5
}
