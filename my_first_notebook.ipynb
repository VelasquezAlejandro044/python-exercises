{
 "cells": [
  {
   "cell_type": "code",
   "execution_count": 1,
   "id": "3d760163",
   "metadata": {},
   "outputs": [
    {
     "data": {
      "text/plain": [
       "10"
      ]
     },
     "execution_count": 1,
     "metadata": {},
     "output_type": "execute_result"
    }
   ],
   "source": [
    "5+5"
   ]
  },
  {
   "cell_type": "code",
   "execution_count": 2,
   "id": "60004d8c",
   "metadata": {},
   "outputs": [
    {
     "name": "stdout",
     "output_type": "stream",
     "text": [
      "I love God\n",
      "I love God\n",
      "I love God\n",
      "I love God\n",
      "I love God\n",
      "I love God\n",
      "I love God\n",
      "I love God\n",
      "I love God\n",
      "I love God\n",
      "I love God\n",
      "I love God\n",
      "I love God\n",
      "I love God\n",
      "I love God\n",
      "I love God\n",
      "I love God\n",
      "I love God\n",
      "I love God\n",
      "I love God\n",
      "I love God\n",
      "I love God\n",
      "I love God\n",
      "I love God\n",
      "I love God\n",
      "I love God\n",
      "I love God\n",
      "I love God\n",
      "I love God\n",
      "I love God\n",
      "I love God\n",
      "I love God\n",
      "I love God\n",
      "I love God\n",
      "I love God\n",
      "I love God\n",
      "I love God\n",
      "I love God\n",
      "I love God\n",
      "I love God\n",
      "I love God\n",
      "I love God\n",
      "I love God\n",
      "I love God\n",
      "I love God\n",
      "I love God\n",
      "I love God\n",
      "I love God\n",
      "I love God\n",
      "I love God\n",
      "I love God\n",
      "I love God\n",
      "I love God\n",
      "I love God\n",
      "I love God\n",
      "I love God\n",
      "I love God\n",
      "I love God\n",
      "I love God\n",
      "I love God\n",
      "I love God\n",
      "I love God\n",
      "I love God\n",
      "I love God\n",
      "I love God\n",
      "I love God\n",
      "I love God\n",
      "I love God\n",
      "I love God\n",
      "I love God\n",
      "I love God\n",
      "I love God\n",
      "I love God\n",
      "I love God\n",
      "I love God\n",
      "I love God\n",
      "I love God\n",
      "I love God\n",
      "I love God\n",
      "I love God\n",
      "I love God\n",
      "I love God\n",
      "I love God\n",
      "I love God\n",
      "I love God\n",
      "I love God\n",
      "I love God\n",
      "I love God\n",
      "I love God\n",
      "I love God\n",
      "I love God\n",
      "I love God\n",
      "I love God\n",
      "I love God\n",
      "I love God\n",
      "I love God\n",
      "I love God\n",
      "I love God\n",
      "I love God\n",
      "I love God\n"
     ]
    }
   ],
   "source": [
    "for x in range(100):\n",
    "    print('I love God')\n",
    "    "
   ]
  },
  {
   "cell_type": "code",
   "execution_count": 3,
   "id": "4d7607b0",
   "metadata": {},
   "outputs": [
    {
     "data": {
      "text/plain": [
       "'Hello, Alejandro. You are 32.'"
      ]
     },
     "execution_count": 3,
     "metadata": {},
     "output_type": "execute_result"
    }
   ],
   "source": [
    "name = \"Alejandro\"\n",
    "age = 32\n",
    "f\"Hello, {name}. You are {age}.\"\n"
   ]
  },
  {
   "cell_type": "markdown",
   "id": "37028d2d",
   "metadata": {},
   "source": [
    "## Notes to wirite\n",
    "\n",
    "- In order to be able to type use ESC \n",
    "- the hashtags allow you to control the size of the letters\n",
    "- To see all the shorcuts type "
   ]
  }
 ],
 "metadata": {
  "kernelspec": {
   "display_name": "Python 3",
   "language": "python",
   "name": "python3"
  },
  "language_info": {
   "codemirror_mode": {
    "name": "ipython",
    "version": 3
   },
   "file_extension": ".py",
   "mimetype": "text/x-python",
   "name": "python",
   "nbconvert_exporter": "python",
   "pygments_lexer": "ipython3",
   "version": "3.8.8"
  }
 },
 "nbformat": 4,
 "nbformat_minor": 5
}
