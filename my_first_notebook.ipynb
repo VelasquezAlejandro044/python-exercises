{
 "cells": [
  {
   "cell_type": "code",
   "execution_count": null,
   "id": "3d760163",
   "metadata": {},
   "outputs": [],
   "source": [
    "5+5"
   ]
  },
  {
   "cell_type": "code",
   "execution_count": null,
   "id": "60004d8c",
   "metadata": {},
   "outputs": [],
   "source": [
    "for x in range(100):\n",
    "    print('I love God')\n",
    "    "
   ]
  },
  {
   "cell_type": "code",
   "execution_count": null,
   "id": "4d7607b0",
   "metadata": {},
   "outputs": [],
   "source": [
    "name = \"Alejandro\"\n",
    "age = 32\n",
    "f\"Hello, {name}. You are {age}.\"\n"
   ]
  },
  {
   "cell_type": "markdown",
   "id": "37028d2d",
   "metadata": {},
   "source": [
    "## Notes to wirite\n",
    "\n",
    "- In order to be able to type use ESC \n",
    "- the hashtags allow you to control the size of the letters\n",
    "- To see all the shorcuts type "
   ]
  }
 ],
 "metadata": {
  "kernelspec": {
   "display_name": "Python 3",
   "language": "python",
   "name": "python3"
  },
  "language_info": {
   "codemirror_mode": {
    "name": "ipython",
    "version": 3
   },
   "file_extension": ".py",
   "mimetype": "text/x-python",
   "name": "python",
   "nbconvert_exporter": "python",
   "pygments_lexer": "ipython3",
   "version": "3.8.8"
  }
 },
 "nbformat": 4,
 "nbformat_minor": 5
}
