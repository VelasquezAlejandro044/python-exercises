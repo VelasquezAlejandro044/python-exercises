{
 "cells": [
  {
   "cell_type": "markdown",
   "id": "b1aff41a",
   "metadata": {},
   "source": [
    "### 1\n",
    "How many students are there? 14"
   ]
  },
  {
   "cell_type": "code",
   "execution_count": 3,
   "id": "9a8515a8",
   "metadata": {},
   "outputs": [
    {
     "name": "stdout",
     "output_type": "stream",
     "text": [
      "14\n"
     ]
    }
   ],
   "source": [
    "print (len(students))"
   ]
  },
  {
   "cell_type": "markdown",
   "id": "ff2105a5",
   "metadata": {},
   "source": [
    "### 2 \n"
   ]
  }
 ],
 "metadata": {
  "kernelspec": {
   "display_name": "Python 3",
   "language": "python",
   "name": "python3"
  },
  "language_info": {
   "codemirror_mode": {
    "name": "ipython",
    "version": 3
   },
   "file_extension": ".py",
   "mimetype": "text/x-python",
   "name": "python",
   "nbconvert_exporter": "python",
   "pygments_lexer": "ipython3",
   "version": "3.8.8"
  }
 },
 "nbformat": 4,
 "nbformat_minor": 5
}
