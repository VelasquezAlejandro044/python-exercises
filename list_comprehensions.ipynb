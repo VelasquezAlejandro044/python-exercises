{
 "cells": [
  {
   "cell_type": "code",
   "execution_count": null,
   "id": "3b71b408",
   "metadata": {},
   "outputs": [],
   "source": [
    "\n",
    "# 17 list comprehension problems in python\n",
    "\n",
    "fruits = ['mango', 'kiwi', 'strawberry', 'guava', 'pineapple', 'mandarin orange']\n",
    "\n",
    "numbers = [2, 3, 4, 5, 6, 7, 8, 9, 10, 11, 13, 17, 19, 23, 256, -8, -4, -2, 5, -9]\n",
    "\n",
    "# Example for loop solution to add 1 to each number in the list\n",
    "numbers_plus_one = []\n",
    "for number in numbers:\n",
    "    numbers_plus_one.append(number + 1)\n",
    "\n",
    "# Example of using a list comprehension to create a list of the numbers plus one.\n",
    "numbers_plus_one = [number + 1 for number in numbers]\n",
    "\n",
    "# Example code that creates a list of all of the list of strings in fruits and uppercases every string\n",
    "output = []\n",
    "for fruit in fruits:\n",
    "    output.append(fruit.upper())\n",
    "    "
   ]
  },
  {
   "cell_type": "markdown",
   "id": "7fa976f3",
   "metadata": {},
   "source": [
    "### Exercise 1\n",
    "rewrite the above example code using list comprehension syntax. Make a variable named uppercased_fruits to hold the output of the list comprehension. Output should be ['MANGO', 'KIWI', etc...]\n"
   ]
  },
  {
   "cell_type": "code",
   "execution_count": 9,
   "id": "9895311b",
   "metadata": {},
   "outputs": [
    {
     "name": "stdout",
     "output_type": "stream",
     "text": [
      "['MANGO', 'KIWI', 'STRAWBERRY', 'GUAVA', 'PINEAPPLE', 'MANDARIN ORANGE']\n"
     ]
    }
   ],
   "source": [
    "fruits = ['mango', 'kiwi', 'strawberry', 'guava', 'pineapple', 'mandarin orange']\n",
    "\n",
    "# Example for loop solution to add 1 to each number in the list\n",
    "uppercased_fruits = []\n",
    "\n",
    "[uppercased_fruits.append(fruit.upper()) for fruit in fruits]\n",
    "\n",
    "print(uppercased_fruits)\n"
   ]
  },
  {
   "cell_type": "markdown",
   "id": "a4c2db30",
   "metadata": {},
   "source": [
    "### Exercise 2\n",
    "create a variable named capitalized_fruits and use list comprehension syntax to produce output like ['Mango', 'Kiwi', 'Strawberry', etc...]"
   ]
  },
  {
   "cell_type": "code",
   "execution_count": 20,
   "id": "5d56e3b1",
   "metadata": {},
   "outputs": [
    {
     "name": "stdout",
     "output_type": "stream",
     "text": [
      "['Mango', 'Kiwi', 'Strawberry', 'Guava', 'Pineapple', 'Mandarin orange']\n"
     ]
    }
   ],
   "source": [
    "fruits = ['mango', 'kiwi', 'strawberry', 'guava', 'pineapple', 'mandarin orange']\n",
    "capitalized_fruits = []\n",
    "[capitalized_fruits.append(fruit.capitalize()) for fruit in fruits]\n",
    "\n",
    "print(capitalized_fruits)\n",
    "\n"
   ]
  },
  {
   "cell_type": "markdown",
   "id": "2f1b0f45",
   "metadata": {},
   "source": [
    "### Exercise 3\n",
    "Use a list comprehension to make a variable named fruits_with_more_than_two_vowels. Hint: You'll need a way to check if something is a vowel."
   ]
  },
  {
   "cell_type": "code",
   "execution_count": 21,
   "id": "5a9ad8e4",
   "metadata": {},
   "outputs": [
    {
     "ename": "SyntaxError",
     "evalue": "invalid syntax (<ipython-input-21-adccb9d980aa>, line 4)",
     "output_type": "error",
     "traceback": [
      "\u001b[0;36m  File \u001b[0;32m\"<ipython-input-21-adccb9d980aa>\"\u001b[0;36m, line \u001b[0;32m4\u001b[0m\n\u001b[0;31m    [[fruits_with_more_than_two_vowels.append(fruit) for fruit in fruits] [vowel_count += 1 for letter in fruit if letter.lower() in ('a', 'e', 'i', 'o', 'u')]\u001b[0m\n\u001b[0m                                                                                       ^\u001b[0m\n\u001b[0;31mSyntaxError\u001b[0m\u001b[0;31m:\u001b[0m invalid syntax\n"
     ]
    }
   ],
   "source": [
    "fruits = ['mango', 'kiwi', 'strawberry', 'guava', 'pineapple', 'mandarin orange']\n",
    "fruits_with_more_than_two_vowels = []\n",
    "vowel_count = 0\n",
    "[[fruits_with_more_than_two_vowels.append(fruit) for fruit in fruits] [vowel_count += 1 for letter in fruit if letter.lower() in ('a', 'e', 'i', 'o', 'u')]   \n"
   ]
  },
  {
   "cell_type": "code",
   "execution_count": 75,
   "id": "b5cb1021",
   "metadata": {},
   "outputs": [
    {
     "name": "stdout",
     "output_type": "stream",
     "text": [
      "19\n"
     ]
    }
   ],
   "source": [
    "fruits = ['mango', 'kiwi', 'strawberry', 'guava', 'pineapple', 'mandarin orange']\n",
    "\n",
    "def fruits_with_two_or_more_vowels(list_of_fruits):\n",
    "    fruits_with_more_than_two_vowels = []\n",
    "    vowel_count = 0\n",
    "\n",
    "    for fruit in list_of_fruits:\n",
    "        for letter in fruit:\n",
    "            if letter in ('aeiou'):\n",
    "                vowel_count += 1\n",
    "            if vowel_count >= 3:\n",
    "                fruits_with_more_than_two_vowels.append(fruit)\n",
    "    return fruits_with_more_than_two_vowels\n",
    "\n",
    "print(fruits_with_two_or_more_vowels(fruits))\n",
    "            "
   ]
  },
  {
   "cell_type": "code",
   "execution_count": null,
   "id": "b84526d5",
   "metadata": {},
   "outputs": [],
   "source": []
  },
  {
   "cell_type": "code",
   "execution_count": 66,
   "id": "5ab88a7e",
   "metadata": {},
   "outputs": [
    {
     "ename": "TypeError",
     "evalue": "sum() takes at most 2 arguments (5 given)",
     "output_type": "error",
     "traceback": [
      "\u001b[0;31m---------------------------------------------------------------------------\u001b[0m",
      "\u001b[0;31mTypeError\u001b[0m                                 Traceback (most recent call last)",
      "\u001b[0;32m<ipython-input-66-7daaccf00f57>\u001b[0m in \u001b[0;36m<module>\u001b[0;34m\u001b[0m\n\u001b[1;32m      1\u001b[0m \u001b[0mmystring\u001b[0m \u001b[0;34m=\u001b[0m \u001b[0;34m'bnneeeee'\u001b[0m\u001b[0;34m\u001b[0m\u001b[0;34m\u001b[0m\u001b[0m\n\u001b[1;32m      2\u001b[0m \u001b[0mx\u001b[0m \u001b[0;34m=\u001b[0m \u001b[0;36m6\u001b[0m\u001b[0;34m\u001b[0m\u001b[0;34m\u001b[0m\u001b[0m\n\u001b[0;32m----> 3\u001b[0;31m \u001b[0mprint\u001b[0m\u001b[0;34m(\u001b[0m\u001b[0msum\u001b[0m\u001b[0;34m(\u001b[0m\u001b[0;34m*\u001b[0m\u001b[0mmap\u001b[0m\u001b[0;34m(\u001b[0m\u001b[0mmystring\u001b[0m\u001b[0;34m.\u001b[0m\u001b[0mlower\u001b[0m\u001b[0;34m(\u001b[0m\u001b[0;34m)\u001b[0m\u001b[0;34m.\u001b[0m\u001b[0mcount\u001b[0m\u001b[0;34m,\u001b[0m \u001b[0;34m\"aeiou\"\u001b[0m\u001b[0;34m)\u001b[0m\u001b[0;34m)\u001b[0m\u001b[0;34m)\u001b[0m\u001b[0;34m\u001b[0m\u001b[0;34m\u001b[0m\u001b[0m\n\u001b[0m",
      "\u001b[0;31mTypeError\u001b[0m: sum() takes at most 2 arguments (5 given)"
     ]
    }
   ],
   "source": [
    "mystring = 'bnneeeee'\n",
    "x = 6\n",
    "print(sum(*map(mystring.lower().count, \"aeiou\")))"
   ]
  },
  {
   "cell_type": "code",
   "execution_count": null,
   "id": "96095a2c",
   "metadata": {},
   "outputs": [],
   "source": [
    "# Bonus # 3 \n",
    "vowels = ['a', 'e', 'i', 'o', 'u']\n",
    "fruits_with_more_than_two_vowels = [fruit for fruit in fruits if sum(1 for letter in fruit if letter in vowels) > 2]\n"
   ]
  }
 ],
 "metadata": {
  "kernelspec": {
   "display_name": "Python 3",
   "language": "python",
   "name": "python3"
  },
  "language_info": {
   "codemirror_mode": {
    "name": "ipython",
    "version": 3
   },
   "file_extension": ".py",
   "mimetype": "text/x-python",
   "name": "python",
   "nbconvert_exporter": "python",
   "pygments_lexer": "ipython3",
   "version": "3.8.8"
  }
 },
 "nbformat": 4,
 "nbformat_minor": 5
}
