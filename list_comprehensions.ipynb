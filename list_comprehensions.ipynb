{
 "cells": [
  {
   "cell_type": "code",
   "execution_count": null,
   "id": "3b71b408",
   "metadata": {},
   "outputs": [],
   "source": [
    "\n",
    "# 17 list comprehension problems in python\n",
    "\n",
    "fruits = ['mango', 'kiwi', 'strawberry', 'guava', 'pineapple', 'mandarin orange']\n",
    "\n",
    "numbers = [2, 3, 4, 5, 6, 7, 8, 9, 10, 11, 13, 17, 19, 23, 256, -8, -4, -2, 5, -9]\n",
    "\n",
    "# Example for loop solution to add 1 to each number in the list\n",
    "numbers_plus_one = []\n",
    "for number in numbers:\n",
    "    numbers_plus_one.append(number + 1)\n",
    "\n",
    "# Example of using a list comprehension to create a list of the numbers plus one.\n",
    "numbers_plus_one = [number + 1 for number in numbers]\n",
    "\n",
    "# Example code that creates a list of all of the list of strings in fruits and uppercases every string\n",
    "output = []\n",
    "for fruit in fruits:\n",
    "    output.append(fruit.upper())\n",
    "    "
   ]
  },
  {
   "cell_type": "markdown",
   "id": "7fa976f3",
   "metadata": {},
   "source": [
    "### Exercise 1\n",
    "rewrite the above example code using list comprehension syntax. Make a variable named uppercased_fruits to hold the output of the list comprehension. Output should be ['MANGO', 'KIWI', etc...]\n"
   ]
  },
  {
   "cell_type": "code",
   "execution_count": null,
   "id": "9895311b",
   "metadata": {},
   "outputs": [],
   "source": [
    "fruits = ['mango', 'kiwi', 'strawberry', 'guava', 'pineapple', 'mandarin orange']\n",
    "\n",
    "# Example for loop solution to add 1 to each number in the list\n",
    "uppercased_fruits = []\n",
    "\n",
    "[uppercased_fruits.append(fruit.upper()) for fruit in fruits]\n",
    "\n",
    "print(uppercased_fruits)\n"
   ]
  },
  {
   "cell_type": "markdown",
   "id": "a4c2db30",
   "metadata": {},
   "source": [
    "### Exercise 2\n",
    "create a variable named capitalized_fruits and use list comprehension syntax to produce output like ['Mango', 'Kiwi', 'Strawberry', etc...]"
   ]
  },
  {
   "cell_type": "code",
   "execution_count": null,
   "id": "5d56e3b1",
   "metadata": {},
   "outputs": [],
   "source": [
    "fruits = ['mango', 'kiwi', 'strawberry', 'guava', 'pineapple', 'mandarin orange']\n",
    "capitalized_fruits = []\n",
    "[capitalized_fruits.append(fruit.capitalize()) for fruit in fruits]\n",
    "\n",
    "print(capitalized_fruits)\n",
    "\n"
   ]
  },
  {
   "cell_type": "markdown",
   "id": "2f1b0f45",
   "metadata": {},
   "source": [
    "### Exercise 3\n",
    "Use a list comprehension to make a variable named fruits_with_more_than_two_vowels. Hint: You'll need a way to check if something is a vowel."
   ]
  },
  {
   "cell_type": "code",
   "execution_count": 3,
   "id": "83820f2e",
   "metadata": {},
   "outputs": [
    {
     "name": "stdout",
     "output_type": "stream",
     "text": [
      "['guava', 'pineapple', 'mandarin orange']\n"
     ]
    }
   ],
   "source": [
    "fruits = ['mango', 'kiwi', 'strawberry', 'guava', 'pineapple', 'mandarin orange']\n",
    "vowels = ['a', 'e', 'i', 'o', 'u']\n",
    "fruits_with_more_than_two_vowels = [fruit for fruit in fruits if sum(1 for letter in fruit if letter in vowels) > 2]\n",
    "print(fruits_with_more_than_two_vowels)\n"
   ]
  },
  {
   "cell_type": "markdown",
   "id": "bf8f81ea",
   "metadata": {},
   "source": [
    "### Exercise 4\n",
    "make a variable named fruits_with_only_two_vowels. The result should be ['mango', 'kiwi', 'strawberry']"
   ]
  },
  {
   "cell_type": "code",
   "execution_count": 6,
   "id": "51727d8a",
   "metadata": {},
   "outputs": [
    {
     "name": "stdout",
     "output_type": "stream",
     "text": [
      "['mango', 'kiwi', 'strawberry']\n"
     ]
    }
   ],
   "source": [
    "fruits = ['mango', 'kiwi', 'strawberry', 'guava', 'pineapple', 'mandarin orange']\n",
    "vowels = ['a', 'e', 'i', 'o', 'u']\n",
    "fruits_with_only_two_vowels = [fruit for fruit in fruits if sum(1 for letter in fruit if letter in vowels) == 2]\n",
    "print(fruits_with_only_two_vowels)\n"
   ]
  },
  {
   "cell_type": "markdown",
   "id": "50e82e7d",
   "metadata": {},
   "source": [
    "#### Exercise 5\n",
    "make a list that contains each fruit with more than 5 characters"
   ]
  },
  {
   "cell_type": "code",
   "execution_count": 10,
   "id": "2cf11fe1",
   "metadata": {},
   "outputs": [
    {
     "name": "stdout",
     "output_type": "stream",
     "text": [
      "['strawberry', 'pineapple', 'mandarin orange']\n"
     ]
    }
   ],
   "source": [
    "fruits = ['mango', 'kiwi', 'strawberry', 'guava', 'pineapple', 'mandarin orange']\n",
    "vowels = ['a', 'e', 'i', 'o', 'u']\n",
    "more_than_five_char = [fruit for fruit in fruits if sum(1 for letter in fruit) > 5]\n",
    "print(more_than_five_char)"
   ]
  },
  {
   "cell_type": "markdown",
   "id": "a369f828",
   "metadata": {},
   "source": [
    "### Exercise 6\n",
    "make a list that contains each fruit with exactly 5 characters"
   ]
  },
  {
   "cell_type": "code",
   "execution_count": 11,
   "id": "7608b08a",
   "metadata": {},
   "outputs": [
    {
     "name": "stdout",
     "output_type": "stream",
     "text": [
      "['mango', 'guava']\n"
     ]
    }
   ],
   "source": [
    "fruits = ['mango', 'kiwi', 'strawberry', 'guava', 'pineapple', 'mandarin orange']\n",
    "vowels = ['a', 'e', 'i', 'o', 'u']\n",
    "five_char = [fruit for fruit in fruits if sum(1 for letter in fruit) == 5]\n",
    "print(five_char)"
   ]
  },
  {
   "cell_type": "markdown",
   "id": "d6f15a0b",
   "metadata": {},
   "source": [
    "### Exercise 7\n",
    "Make a list that contains fruits that have less than 5 characters"
   ]
  },
  {
   "cell_type": "code",
   "execution_count": 12,
   "id": "d604e1af",
   "metadata": {},
   "outputs": [
    {
     "name": "stdout",
     "output_type": "stream",
     "text": [
      "['kiwi']\n"
     ]
    }
   ],
   "source": [
    "fruits = ['mango', 'kiwi', 'strawberry', 'guava', 'pineapple', 'mandarin orange']\n",
    "vowels = ['a', 'e', 'i', 'o', 'u']\n",
    "less_than_five_char = [fruit for fruit in fruits if sum(1 for letter in fruit) < 5]\n",
    "print(less_than_five_char)"
   ]
  },
  {
   "cell_type": "markdown",
   "id": "74447d05",
   "metadata": {},
   "source": [
    "#### Exercise 8\n",
    "Make a list containing the number of characters in each fruit. Output would be [5, 4, 10, etc... ]#### "
   ]
  },
  {
   "cell_type": "code",
   "execution_count": 25,
   "id": "859ad67e",
   "metadata": {},
   "outputs": [
    {
     "name": "stdout",
     "output_type": "stream",
     "text": [
      "[5, 4, 10, 5, 9, 15]\n"
     ]
    }
   ],
   "source": [
    "fruits = ['mango', 'kiwi', 'strawberry', 'guava', 'pineapple', 'mandarin orange']\n",
    "num_of_fruit = [len(fruit) for fruit in fruits]\n",
    "print(num_of_fruit)\n",
    "    "
   ]
  },
  {
   "cell_type": "markdown",
   "id": "0a5d2d17",
   "metadata": {},
   "source": [
    "### Exercise 9\n",
    "Make a variable named fruits_with_letter_a that contains a list of only the fruits that contain the letter \"a\"\n"
   ]
  },
  {
   "cell_type": "code",
   "execution_count": 35,
   "id": "8838682f",
   "metadata": {},
   "outputs": [
    {
     "name": "stdout",
     "output_type": "stream",
     "text": [
      "['mandarin orange', 'strawberry', 'mango', 'pineapple', 'guava']\n"
     ]
    }
   ],
   "source": [
    "fruits = ['mango', 'kiwi', 'strawberry', 'guava', 'pineapple', 'mandarin orange']\n",
    "fruits_with_letter_a = [fruit for fruit in fruits for letter in fruit if letter == 'a']\n",
    "print(list(set(fruits_with_letter_a)))\n",
    "\n"
   ]
  },
  {
   "cell_type": "markdown",
   "id": "6e27c693",
   "metadata": {},
   "source": [
    "### Exercise 10\n",
    "Make a variable named even_numbers that holds only the even numbers "
   ]
  },
  {
   "cell_type": "code",
   "execution_count": 37,
   "id": "a1b74509",
   "metadata": {},
   "outputs": [
    {
     "name": "stdout",
     "output_type": "stream",
     "text": [
      "[2, 4, 6, 8, 10, 256, -8, -4, -2]\n"
     ]
    }
   ],
   "source": [
    "numbers = [2, 3, 4, 5, 6, 7, 8, 9, 10, 11, 13, 17, 19, 23, 256, -8, -4, -2, 5, -9]\n",
    "even_numbers = [num for num in numbers if num%2 == 0]\n",
    "print(even_numbers)"
   ]
  },
  {
   "cell_type": "markdown",
   "id": "17dc080c",
   "metadata": {},
   "source": [
    "### Ecercise 11\n",
    "Make a variable named odd_numbers that holds only the odd numbers"
   ]
  },
  {
   "cell_type": "code",
   "execution_count": 38,
   "id": "2d398699",
   "metadata": {},
   "outputs": [
    {
     "name": "stdout",
     "output_type": "stream",
     "text": [
      "[3, 6, 9, -9]\n"
     ]
    }
   ],
   "source": [
    "numbers = [2, 3, 4, 5, 6, 7, 8, 9, 10, 11, 13, 17, 19, 23, 256, -8, -4, -2, 5, -9]\n",
    "odd_numbers = [num for num in numbers if num%3 == 0]\n",
    "print(odd_numbers)"
   ]
  },
  {
   "cell_type": "markdown",
   "id": "23ee429a",
   "metadata": {},
   "source": [
    "### Ecercise 12\n",
    "Make a variable named positive_numbers that holds only the positive numbers"
   ]
  },
  {
   "cell_type": "code",
   "execution_count": 39,
   "id": "71b973cd",
   "metadata": {},
   "outputs": [
    {
     "name": "stdout",
     "output_type": "stream",
     "text": [
      "[2, 3, 4, 5, 6, 7, 8, 9, 10, 11, 13, 17, 19, 23, 256, 5]\n"
     ]
    }
   ],
   "source": [
    "numbers = [2, 3, 4, 5, 6, 7, 8, 9, 10, 11, 13, 17, 19, 23, 256, -8, -4, -2, 5, -9]\n",
    "positive_numbers = [num for num in numbers if num > 0]\n",
    "print(positive_numbers)"
   ]
  },
  {
   "cell_type": "markdown",
   "id": "3b82989c",
   "metadata": {},
   "source": [
    "### Ecercise 13\n",
    " Make a variable named negative_numbers that holds only the negative numbers"
   ]
  },
  {
   "cell_type": "code",
   "execution_count": 40,
   "id": "54e75937",
   "metadata": {},
   "outputs": [
    {
     "name": "stdout",
     "output_type": "stream",
     "text": [
      "[-8, -4, -2, -9]\n"
     ]
    }
   ],
   "source": [
    "numbers = [2, 3, 4, 5, 6, 7, 8, 9, 10, 11, 13, 17, 19, 23, 256, -8, -4, -2, 5, -9]\n",
    "negative_numbers = [num for num in numbers if num < 0]\n",
    "print(negative_numbers)"
   ]
  },
  {
   "cell_type": "markdown",
   "id": "7190cb7e",
   "metadata": {},
   "source": [
    "### Ecercise 14\n",
    "use a list comprehension w/ a conditional in order to produce a list of numbers with 2 or more numerals"
   ]
  },
  {
   "cell_type": "code",
   "execution_count": 47,
   "id": "f7881a48",
   "metadata": {},
   "outputs": [
    {
     "name": "stdout",
     "output_type": "stream",
     "text": [
      "[10, 11, 13, 17, 19, 23, 256, -51]\n"
     ]
    }
   ],
   "source": [
    "numbers = [2, 3, 4, 5, 6, 7, 8, 9, 10, 11, 13, 17, 19, 23, 256, -8, -4, -2, 5, -9, -51]\n",
    "two_or_more_nums = [num for num in numbers if (len(str(num).replace(\"-\", \"\"))) >= 2]\n",
    "print(two_or_more_nums)"
   ]
  },
  {
   "cell_type": "markdown",
   "id": "522ee956",
   "metadata": {},
   "source": [
    "### Ecercise 15\n",
    "Make a variable named numbers_squared that contains the numbers list with each element squared. Output is [4, 9, 16, etc...]\n"
   ]
  },
  {
   "cell_type": "code",
   "execution_count": 48,
   "id": "82cb72fd",
   "metadata": {},
   "outputs": [
    {
     "name": "stdout",
     "output_type": "stream",
     "text": [
      "[4, 9, 16, 25, 36, 49, 64, 81, 100, 121, 169, 289, 361, 529, 65536, 64, 16, 4, 25, 81, 2601]\n"
     ]
    }
   ],
   "source": [
    "numbers = [2, 3, 4, 5, 6, 7, 8, 9, 10, 11, 13, 17, 19, 23, 256, -8, -4, -2, 5, -9, -51]\n",
    "numbers_squared = [num**2 for num in numbers]\n",
    "print(numbers_squared)"
   ]
  },
  {
   "cell_type": "markdown",
   "id": "255d6d4d",
   "metadata": {},
   "source": [
    "### Exercise 16 \n",
    "\n",
    "Make a variable named odd_negative_numbers that contains only the numbers that are both odd and negative."
   ]
  },
  {
   "cell_type": "code",
   "execution_count": 49,
   "id": "6587a27f",
   "metadata": {},
   "outputs": [
    {
     "name": "stdout",
     "output_type": "stream",
     "text": [
      "[-9]\n"
     ]
    }
   ],
   "source": [
    "numbers = [2, 3, 4, 5, 6, 7, 8, 9, 10, 11, 13, 17, 19, 23, 256, -8, -4, -2, 5, -9]\n",
    "odd_negative_numbers = [num for num in numbers if num < 0 and num%3 == 0]\n",
    "print(odd_negative_numbers)"
   ]
  },
  {
   "cell_type": "markdown",
   "id": "c0719628",
   "metadata": {},
   "source": [
    "### Exercise 17 \n",
    "Make a variable named numbers_plus_5. In it, return a list containing each number plus five. "
   ]
  },
  {
   "cell_type": "code",
   "execution_count": 56,
   "id": "2fb48375",
   "metadata": {},
   "outputs": [
    {
     "name": "stdout",
     "output_type": "stream",
     "text": [
      "[7, 8, 9, 10, 11, 12, 13, 14, 15, 16, 18, 22, 24, 28, 261, -3, 1, 3, 10, -4]\n"
     ]
    }
   ],
   "source": [
    "numbers = [2, 3, 4, 5, 6, 7, 8, 9, 10, 11, 13, 17, 19, 23, 256, -8, -4, -2, 5, -9]\n",
    "numbers_plus_five = [(num+5) for num in numbers]\n",
    "print(numbers_plus_five)"
   ]
  },
  {
   "cell_type": "markdown",
   "id": "b726b8bf",
   "metadata": {},
   "source": [
    "### BONUS \n",
    "Make a variable named \"primes\" that is a list containing the prime numbers in the numbers list. *Hint* you may want to make or find a helper function that determines if a given number is prime or not.\n"
   ]
  },
  {
   "cell_type": "code",
   "execution_count": 2,
   "id": "43293f67",
   "metadata": {},
   "outputs": [
    {
     "name": "stdout",
     "output_type": "stream",
     "text": [
      "[2, 3, 5, 7, 11, 13, 17, 19, 23, 5]\n"
     ]
    }
   ],
   "source": [
    "import sympy as s\n",
    "numbers = [2, 3, 4, 5, 6, 7, 8, 9, 10, 11, 13, 17, 19, 23, 256, -8, -4, -2, 5, -9]\n",
    "primes = [num for num in numbers if s.isprime(num)]\n",
    "print(primes)"
   ]
  }
 ],
 "metadata": {
  "kernelspec": {
   "display_name": "Python 3",
   "language": "python",
   "name": "python3"
  },
  "language_info": {
   "codemirror_mode": {
    "name": "ipython",
    "version": 3
   },
   "file_extension": ".py",
   "mimetype": "text/x-python",
   "name": "python",
   "nbconvert_exporter": "python",
   "pygments_lexer": "ipython3",
   "version": "3.8.8"
  }
 },
 "nbformat": 4,
 "nbformat_minor": 5
}
