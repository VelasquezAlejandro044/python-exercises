{
 "cells": [
  {
   "cell_type": "markdown",
   "id": "2dd03aa7",
   "metadata": {},
   "source": [
    "## 1\n",
    "Define a function named 'is_two'. It should accept one input and return 'True' if the passed input is either the number or the string 2, 'False' otherwise."
   ]
  },
  {
   "cell_type": "code",
   "execution_count": null,
   "id": "7f766c3f",
   "metadata": {},
   "outputs": [],
   "source": [
    "def is_two(x):\n",
    "    if x == '2' or x == 2:\n",
    "        return True\n",
    "    else:\n",
    "        return False\n"
   ]
  },
  {
   "cell_type": "markdown",
   "id": "5f8a35b1",
   "metadata": {},
   "source": [
    "## 2\n",
    "Define a function named is_vowel. It should return True if the passed string is a vowel, False otherwise.\n"
   ]
  },
  {
   "cell_type": "code",
   "execution_count": null,
   "id": "55d0603f",
   "metadata": {},
   "outputs": [],
   "source": [
    "def is_vowel():\n",
    "    s = str(input('Enter character'))\n",
    "    return s in \"aeiouAEIOU\""
   ]
  },
  {
   "cell_type": "markdown",
   "id": "a82d0ea9",
   "metadata": {},
   "source": [
    "## 3\n",
    "Define a function named is_consonant. It should return True if the passed string is a consonant, False otherwise. Use your is_vowel function to accomplish this."
   ]
  },
  {
   "cell_type": "code",
   "execution_count": null,
   "id": "33ab4c5b",
   "metadata": {},
   "outputs": [],
   "source": [
    "def is_consonant(y):\n",
    "    if is_vowel(y) == True:\n",
    "        return False\n",
    "    else:\n",
    "        return True\n",
    "print(is_consonant('b'))"
   ]
  },
  {
   "cell_type": "markdown",
   "id": "e7873400",
   "metadata": {},
   "source": [
    "## 4 \n",
    "Define a function that accepts a string that is a word. The function should capitalize the first letter of the word if the word starts with a consonant."
   ]
  },
  {
   "cell_type": "code",
   "execution_count": null,
   "id": "7d19ae68",
   "metadata": {},
   "outputs": [],
   "source": [
    "def cap_first_consonant(x):\n",
    "    consonats = 'bcdfghjklmnpqrstvwxyz'\n",
    "    if x[0] in consonats:\n",
    "        return x.capitalize()"
   ]
  },
  {
   "cell_type": "markdown",
   "id": "527c9736",
   "metadata": {},
   "source": [
    "## 5\n",
    "Define a function named calculate_tip. It should accept a tip percentage (a number between 0 and 1) and the bill total, and return the amount to tip."
   ]
  },
  {
   "cell_type": "code",
   "execution_count": 2,
   "id": "2d68159a",
   "metadata": {},
   "outputs": [
    {
     "name": "stdout",
     "output_type": "stream",
     "text": [
      "25.0\n"
     ]
    }
   ],
   "source": [
    "def calculate_tip(tip_percentage, bill_total):\n",
    "    if tip_percentage > 0 and tip_percentage < 1:\n",
    "        return tip_percentage * bill_total\n",
    "    else:\n",
    "        return \"Can't work under this conditions\"\n",
    "    \n",
    "print(calculate_tip(0.25, 100))"
   ]
  },
  {
   "cell_type": "markdown",
   "id": "5f90f0f0",
   "metadata": {},
   "source": [
    "## 6\n",
    "the bill total, and return the amount to tip.\n",
    "Define a function named apply_discount. It should accept a original price, and a discount percentage, and return the price after the discount is applied."
   ]
  },
  {
   "cell_type": "code",
   "execution_count": null,
   "id": "ab46d1ea",
   "metadata": {},
   "outputs": [],
   "source": [
    "def apply_discount(org_price, discount_percentagel_total):\n",
    "    if discount_percentagel_total > 0 and discount_percentagel_total < 1:\n",
    "        return f\"The price you pay after discount is ${org_price - (discount_percentagel_total * org_price)}\"\n",
    "    else:\n",
    "        return \"Can't work under this conditions\"\n",
    "\n",
    "print(apply_discount(25, 0.10))"
   ]
  },
  {
   "cell_type": "markdown",
   "id": "aaf45677",
   "metadata": {},
   "source": [
    "## 7\n",
    "Define a function named handle_commas. It should accept a string that is a number that contains commas in it as input, and return a number as output.\n"
   ]
  },
  {
   "cell_type": "code",
   "execution_count": null,
   "id": "cb3dbb37",
   "metadata": {},
   "outputs": [],
   "source": [
    "test = '45,525,214'\n",
    "\n",
    "def handle_commas(str_in):\n",
    "        \n",
    "    count = len(str_in)\n",
    "    while count > 0:       \n",
    "        num_out = '' \n",
    "        for char in str_in:\n",
    "            if char != ',':\n",
    "                num_out += char\n",
    "            count -= 1\n",
    "    return int(num_out), type(int(num_out))\n",
    "\n",
    "print(handle_commas(test)) "
   ]
  },
  {
   "cell_type": "markdown",
   "id": "4f442349",
   "metadata": {},
   "source": [
    "## 8\n",
    "Define a function named get_letter_grade. It should accept a number and return the letter grade associated with that number (A-F)."
   ]
  },
  {
   "cell_type": "code",
   "execution_count": null,
   "id": "7c484036",
   "metadata": {},
   "outputs": [],
   "source": [
    "def get_letter_grade(num):\n",
    "    if num >= 88:\n",
    "        print(\"A\")\n",
    "    elif num >= 80:\n",
    "        print(\"B\")\n",
    "    elif num >= 67:\n",
    "        print(\"C\")\n",
    "    elif num >= 66:\n",
    "        print(\"D\")\n",
    "    else:\n",
    "        print(\"F\")"
   ]
  },
  {
   "cell_type": "markdown",
   "id": "a810e190",
   "metadata": {},
   "source": [
    "## 9\n",
    "Define a function named remove_vowels that accepts a string and returns a string with all the vowels removed."
   ]
  },
  {
   "cell_type": "code",
   "execution_count": null,
   "id": "9643191c",
   "metadata": {},
   "outputs": [],
   "source": [
    "def remove_vowels(x):\n",
    "    vowels = 'aeiouAEIOU'\n",
    "    str_out = []\n",
    "    for char in x:\n",
    "        if char not in vowels:\n",
    "            str_out += char\n",
    "    return ''.join(str_out)"
   ]
  },
  {
   "cell_type": "markdown",
   "id": "3d3ee007",
   "metadata": {},
   "source": [
    "## 10 \n",
    "Define a function named normalize_name. \n",
    "It should accept a string and return a valid python identifier, that is:\n",
    "- anything that is not a valid python identifier should be removed\n",
    "- leading and trailing whitespace should be removed\n",
    "- everything should be lowercase\n",
    "- spaces should be replaced with underscores\n",
    "- for example:\n",
    "    - Name will become name\n",
    "    - First Name will become first_name\n",
    "    - % Completed will become completed\n"
   ]
  },
  {
   "cell_type": "code",
   "execution_count": null,
   "id": "784f1bfb",
   "metadata": {},
   "outputs": [],
   "source": [
    "def normalize_name(str_in):\n",
    "    str_x = str_in.strip().lower().replace(' ', '_')\n",
    "    good_chars = 'abcdefghijklmnopqrstuvwxyz0123456789_'\n",
    "    str_out = ''\n",
    "        \n",
    "    for char in str_x:\n",
    "        if char in good_chars:\n",
    "            str_out += char\n",
    "        else:\n",
    "            continue\n",
    "    return str_out"
   ]
  },
  {
   "cell_type": "markdown",
   "id": "e3aeaa35",
   "metadata": {},
   "source": [
    "## 11\n",
    "Write a function named cumulative_sum that accepts a list of numbers and returns a list that is the cumulative sum of the numbers in the list.\n",
    "- cumulative_sum([1, 1, 1]) returns [1, 2, 3]\n",
    "- cumulative_sum([1, 2, 3, 4]) returns [1, 3, 6, 10]"
   ]
  },
  {
   "cell_type": "code",
   "execution_count": null,
   "id": "16746a18",
   "metadata": {},
   "outputs": [],
   "source": [
    "test = [1, 2, 3, 4]\n",
    "def cumulative_sum(list_in): \n",
    "    cumulative_sum_list = [sum(list_in[0:idx:1]) for idx in range(1, len(list_in)+1)]   \n",
    "    return cumulative_sum_list \n",
    "print(cumulative_sum(test))"
   ]
  },
  {
   "cell_type": "code",
   "execution_count": null,
   "id": "9fe85d27",
   "metadata": {},
   "outputs": [],
   "source": [
    "test = [1, 2, 3, 4]\n",
    "def cumulative_sum(list_in): \n",
    "    return [list_in[0:idx:1] for idx in range(1, len(list_in)+1)]     \n",
    "print(cumulative_sum(test))"
   ]
  },
  {
   "cell_type": "markdown",
   "id": "77330459",
   "metadata": {},
   "source": [
    "# Additional Functions Exercise\n",
    "\n",
    "1. Comment each line of your function with an explanation of what that line is doing. Make sure to document both the type of all function parameters and the type that will be returned from the function. Also be sure to use the vocabulary we've introduced to describe your python code appropriately.\n"
   ]
  },
  {
   "cell_type": "code",
   "execution_count": null,
   "id": "69650e8e",
   "metadata": {},
   "outputs": [],
   "source": [
    "# test is a list created to control the effectiveness of the function cumulative_sum()\n",
    "test = [1, 2, 3, 4]\n",
    "# def keyword gives name to a function that takes in a list as a variable\n",
    "def cumulative_sum(list_in):\n",
    "     # Creates a list 'cumulative_sum_list' that will collect our data to return\n",
    "    # The for loop that runs within the list creates a list with all values in 'list_in' \n",
    "    # In the range specified with statement  [0:x:1] => ([start:end:size_of_step])\n",
    "            #Exmple: cumulative_sum_list = [[1], [1, 2], [1, 2, 3], [1, 2, 3, 4]]\n",
    "    # By adding the sum function to the list_in[0:x:1] stament adds values at the end of each iteration\n",
    "    cumulative_sum_list = [sum(list_in[0:idx:1]) for idx in range(1, len_list_in+1)]   \n",
    "    # It lets the user see the cumulative sum of the numbers in the list used as the argument\n",
    "    return cumulative_sum_list \n",
    "\n",
    "# Called the user-created function into computing  \n",
    "print(cumulative_sum(test))"
   ]
  },
  {
   "cell_type": "markdown",
   "id": "1080e8eb",
   "metadata": {},
   "source": [
    "#### Walk through\n",
    "2. Walk us through how the function executes using the comments you wrote and several different example inputs that demonstrate all the possible paths through your function.\n",
    "\n",
    "In the problem statement, it is clear that one will need and accumulate data using the data type 'list' and the 'sum()' function to return a list of numeric types.\n",
    "\n",
    "The problem statement stated two facts: the name of the function and a list used as the user input variable that would allow us to verify the desired outcome.  As we generate numeric type data, a list to collect the returned data is created under the name 'cumulative_sum_list'. The list will be composed of list slices of the variable 'list_in' containing all values starting at index 0 to the 'idx' value indicated by the following for loop using an incremental step of one unit. The 'idx' value is obtained by creating a 'for loop' that returns each value in a range the size of the length of the 'list_in' variable plus one unit to include all values. \n",
    "\n",
    "After this operations are completed, python should have a list of list that looks like [[1], [1, 2], [1, 2, 3], [1, 2, 3, 4]]. Using the same list comprehension statement, we wrap the list slicing argument with the 'sum()' function (list_in[0:idx:1]) so all lists are added together, giving us the final aggregated sums and stored independently within 'cumulative_sum_list.'  \n",
    "\n",
    "At this point, we can move the list comprehension statement to a return function to en the process, thus eliminating the variable 'cumulative_sum_list.' \n",
    "    \n",
    "\n",
    "\n",
    "\n"
   ]
  }
 ],
 "metadata": {
  "kernelspec": {
   "display_name": "Python 3",
   "language": "python",
   "name": "python3"
  },
  "language_info": {
   "codemirror_mode": {
    "name": "ipython",
    "version": 3
   },
   "file_extension": ".py",
   "mimetype": "text/x-python",
   "name": "python",
   "nbconvert_exporter": "python",
   "pygments_lexer": "ipython3",
   "version": "3.8.8"
  }
 },
 "nbformat": 4,
 "nbformat_minor": 5
}
