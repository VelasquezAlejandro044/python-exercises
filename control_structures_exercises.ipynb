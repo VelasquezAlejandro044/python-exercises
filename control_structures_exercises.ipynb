{
 "cells": [
  {
   "cell_type": "markdown",
   "id": "19a3aaea",
   "metadata": {},
   "source": [
    "## 1 Conditional Basics\n",
    "- a. prompt the user for a day of the week, print out whether the day is   Monday or not\n",
    "\n",
    "- b. prompt the user for a day of the week, print out whether the day is   a weekday or a weekend\n",
    "\n",
    "- .c create variables and make up values for\n",
    "\n",
    "    the number of hours worked in one week\n",
    "    \n",
    "    the hourly rate\n",
    "    \n",
    "    how much the week's paycheck will be\n",
    "    \n",
    " write the python code that calculates the weekly paycheck. You get paid time and a half if you work more than 40 hours"
   ]
  },
  {
   "cell_type": "code",
   "execution_count": 1,
   "id": "84b3897c",
   "metadata": {},
   "outputs": [
    {
     "name": "stdout",
     "output_type": "stream",
     "text": [
      "What day of the week is today? monday\n",
      "Let the Lord bless Mondays\n"
     ]
    }
   ],
   "source": [
    "# a. prompt the user for a day of the week, print out whether the day is   Monday or no\n",
    "\n",
    "def is_it_monday():\n",
    "    x = input('What day of the week is today? ')\n",
    "    if x.lower() == 'monday':\n",
    "        return 'Let the Lord bless Mondays'\n",
    "    else:\n",
    "        return f'Sorry, today is {x}'\n",
    "\n",
    "print(is_it_monday())"
   ]
  },
  {
   "cell_type": "code",
   "execution_count": 6,
   "id": "4c39ff28",
   "metadata": {},
   "outputs": [
    {
     "name": "stdout",
     "output_type": "stream",
     "text": [
      "What is your favorite day of the week?monday\n",
      "Your favorite day of the week is Monday???\n"
     ]
    }
   ],
   "source": [
    "day_of_week = input('What is your favorite day of the week?')\n",
    "\n",
    "if day_of_week.lower() == 'monday':\n",
    "    print('Your favorite day of the week is Monday???')\n",
    "else:\n",
    "    print(f'Your favorite day of the week is {day_of_week}.')"
   ]
  },
  {
   "cell_type": "code",
   "execution_count": 3,
   "id": "08afb70c",
   "metadata": {},
   "outputs": [
    {
     "name": "stdout",
     "output_type": "stream",
     "text": [
      "What day of the week is today? fas\n",
      "You are not taking this serious =P fas\n"
     ]
    }
   ],
   "source": [
    "# b. prompt the user for a day of the week, print out whether the day is   a weekday or a weekend\n",
    "def weekday_or_weekend():\n",
    "    x = input('What day of the week is today? ')\n",
    "    weekend = ['saturday', 'sunday']\n",
    "    weekday = ['monday', 'tuesday', 'wednesday', 'thursday', 'friday']\n",
    "    if x.lower() in weekend:\n",
    "        return'It is the weekend!!!'\n",
    "    elif x.lower() in weekday:\n",
    "        return 'Today is a weekday'\n",
    "    else:\n",
    "        return f'You are not taking this serious =P'\n",
    "    \n",
    "    \n",
    "\n",
    "print(weekday_or_weekend())\n"
   ]
  },
  {
   "cell_type": "code",
   "execution_count": null,
   "id": "51ff3441",
   "metadata": {},
   "outputs": [],
   "source": [
    "# - .c create variables and make up values for\n",
    "#    the number of hours worked in one week \n",
    "#    the hourly rate   \n",
    "#    how much the week's paycheck will be\n",
    "\n",
    "def weekly_paycheck():\n",
    "    num_of_worked_per_week = int(input('How many hours did you work this week?'))\n",
    "    hourly_rate = 333\n",
    "    time_and_half = hourly_rate * 1.5\n",
    "    weekly_check = 0\n",
    "    if num_of_worked_per_week <= 0:\n",
    "        return \"No work, no paycheck\"\n",
    "    elif num_of_worked_per_week < 40:\n",
    "        weekly_check += (num_of_worked_per_week * hourly_rate)\n",
    "        return f'You will get ${weekly_check}' \n",
    "    else:\n",
    "        weekly_check += (40*hourly_rate + ((num_of_worked_per_week - 40)*time_and_half))\n",
    "        return f'You will get ${weekly_check}'\n",
    "print(weekly_paycheck())\n",
    "    \n",
    "    \n",
    "\n",
    "\n"
   ]
  },
  {
   "cell_type": "markdown",
   "id": "c957bd07",
   "metadata": {},
   "source": [
    "## 2 Loop Basics\n",
    "\n",
    "#### a.While\n",
    "\n",
    "- Create an integer variable i with a value of 5.\n",
    "- Create a while loop that runs so long as i is less than or equal to 15\n",
    "- Each loop iteration, output the current value of i, then increment i by one.\n"
   ]
  },
  {
   "cell_type": "code",
   "execution_count": null,
   "id": "4049d7aa",
   "metadata": {},
   "outputs": [],
   "source": [
    "i = 5 \n",
    "while i <= 15:\n",
    "    print(i)\n",
    "    i += 1\n"
   ]
  },
  {
   "cell_type": "markdown",
   "id": "ac1453db",
   "metadata": {},
   "source": [
    "####  \n",
    "- Create a while loop that will count by 2's starting with 0 and ending at 100. Follow each number with a new line.\n",
    "- Alter your loop to count backwards by 5's from 100 to -10.\n",
    "- Create a while loop that starts at 2, and displays the number squared on each line while the number is less than 1,000,000. \n",
    "- Write a loop that uses print to create the output shown below."
   ]
  },
  {
   "cell_type": "code",
   "execution_count": null,
   "id": "40876179",
   "metadata": {},
   "outputs": [],
   "source": [
    "# - Create a while loop that will count by 2's starting with 0 and ending at 100. Follow each number with a new line.\n",
    "count = 0\n",
    "while count != 102:\n",
    "    print(count)\n",
    "    count += 2"
   ]
  },
  {
   "cell_type": "code",
   "execution_count": null,
   "id": "354154b0",
   "metadata": {},
   "outputs": [],
   "source": [
    "# - Alter your loop to count backwards by 5's from 100 to -10.\n",
    "count = 100\n",
    "while count != -15:\n",
    "    print(count)\n",
    "    count -= 5"
   ]
  },
  {
   "cell_type": "code",
   "execution_count": null,
   "id": "4993bdeb",
   "metadata": {},
   "outputs": [],
   "source": [
    "# - Create a while loop that starts at 2, and displays the number squared on each line while the number is less than 1,000,000. Output should equal:\n",
    "\n",
    "count = 2\n",
    "while count < 1000000:\n",
    "    print(count)\n",
    "    count = count**2\n",
    "\n",
    "\n"
   ]
  },
  {
   "cell_type": "code",
   "execution_count": null,
   "id": "cc733988",
   "metadata": {},
   "outputs": [],
   "source": [
    "# Write a loop that uses print to create the output shown below.\n",
    "count = 100\n",
    "while count != 0:\n",
    "    print(count)\n",
    "    count -= 5"
   ]
  },
  {
   "cell_type": "markdown",
   "id": "e0adc712",
   "metadata": {},
   "source": [
    "### b. For Loops\n",
    "- Write some code that prompts the user for a number, then shows a multiplication table up through 10 for that number.\n",
    "- Create a for loop that uses print to create the output shown below."
   ]
  },
  {
   "cell_type": "code",
   "execution_count": null,
   "id": "7dd7c5b3",
   "metadata": {},
   "outputs": [],
   "source": [
    "# Write some code that prompts the user for a number, then shows a multiplication table up through 10 for that number.\n",
    "\n",
    "def multiplication_table():\n",
    "    x = input('pick a number:')\n",
    "    for num in range(1,11):\n",
    "        print(f'{x} x {num} = {int(x) * num}')\n",
    "print(multiplication_table())\n",
    "\n"
   ]
  },
  {
   "cell_type": "code",
   "execution_count": null,
   "id": "e95a2ae8",
   "metadata": {},
   "outputs": [],
   "source": [
    "# Create a for loop that uses print to create the output shown below.\n",
    "\n",
    "for num in range(1,10):\n",
    "    print(str(num)*num)"
   ]
  },
  {
   "cell_type": "markdown",
   "id": "d49dff61",
   "metadata": {},
   "source": [
    "### c. Break and Continue\n",
    "- Prompt the user for an odd number between 1 and 50. Use a loop and a break statement to continue prompting the user if they enter invalid input. (Hint: use the isdigit method on strings to determine this). Use a loop and the continue statement to output all the odd numbers between 1 and 50, except for the number the user entered."
   ]
  },
  {
   "cell_type": "code",
   "execution_count": null,
   "id": "4fd58319",
   "metadata": {},
   "outputs": [],
   "source": [
    "while True:\n",
    "    odd_in = input(\"please enter an odd nmber between 1 and  50: \")\n",
    "    if not odd_in.isdigit():\n",
    "        print('Try again')\n",
    "        continue\n",
    "    odd_int = int(odd_in)\n",
    "    if odd_int > 50 or odd_int < 1:\n",
    "        print('Try again,,, because Scott says so')\n",
    "        continue\n",
    "    if odd_int % 2 == 1:\n",
    "        break\n",
    "for i in range(1, 51):\n",
    "    if i == odd_int:\n",
    "        print(f\"SKIP {i}\")\n",
    "        continue\n",
    "    if i % 2 == 0:\n",
    "        continue\n",
    "    print(f\"Here is an odd number: {i}\")\n",
    "print(\"Done\")"
   ]
  },
  {
   "cell_type": "markdown",
   "id": "1b5f6efc",
   "metadata": {},
   "source": [
    "### d.\n",
    "The input function can be used to prompt for input and use that input in your python code. Prompt the user to enter a positive number and write a loop that counts from 0 to that number. (Hints: first make sure that the value the user entered is a valid number, also note that the input function returns a string, so you'll need to convert this to a numeric type.)"
   ]
  },
  {
   "cell_type": "code",
   "execution_count": null,
   "id": "f317b590",
   "metadata": {},
   "outputs": [],
   "source": [
    "while True:\n",
    "    num_in_str = input(\"please enter a positive number: \")\n",
    "    \n",
    "    if not num_in_str.isdigit():\n",
    "        print(\"read the instructions and try again\")\n",
    "        continue\n",
    "    num_int = abs(int(num_in_str))\n",
    "    if num_int != 0:\n",
    "        break\n",
    "\n",
    "for num in range(1, num_int+1):\n",
    "    print(num)"
   ]
  },
  {
   "cell_type": "markdown",
   "id": "5af50658",
   "metadata": {},
   "source": [
    "### e. \n",
    "Write a program that prompts the user for a positive integer. Next write a loop that prints out the numbers from the number the user entered down to 1."
   ]
  },
  {
   "cell_type": "code",
   "execution_count": null,
   "id": "d0ebdf7b",
   "metadata": {},
   "outputs": [],
   "source": [
    "while True:\n",
    "    num_in_str = input(\"please enter a number: \")\n",
    "    \n",
    "    if not num_in_str.isdigit():\n",
    "        print(\"read the instructions and try again\")\n",
    "        continue\n",
    "    num_int = abs(int(num_in_str))\n",
    "    if num_int != 0:\n",
    "        break\n",
    "\n",
    "for i in range(num_int, 0, -1):\n",
    "    print(i)"
   ]
  },
  {
   "cell_type": "markdown",
   "id": "2f145e5a",
   "metadata": {},
   "source": [
    "## 3\n",
    "One of the most common interview questions for entry-level programmers is the FizzBuzz test. Developed by Imran Ghory, the test is designed to test basic looping and conditional logic skills.\n",
    "\n",
    "- Write a program that prints the numbers from 1 to 100.\n",
    "- For multiples of three print \"Fizz\" instead of the number\n",
    "- For the multiples of five print \"Buzz\".\n",
    "- For numbers which are multiples of both three and five print \"FizzBuzz\"."
   ]
  },
  {
   "cell_type": "code",
   "execution_count": null,
   "id": "2c8aa79c",
   "metadata": {},
   "outputs": [],
   "source": [
    "# - Write a program that prints the numbers from 1 to 100.\n",
    "for num in range(1,101):\n",
    "    print(num)"
   ]
  },
  {
   "cell_type": "code",
   "execution_count": null,
   "id": "57e7277e",
   "metadata": {},
   "outputs": [],
   "source": [
    "# For multiples of three print \"Fizz\" instead of the number\n",
    "for num in range(1,101):\n",
    "    if num % 3 == 0:\n",
    "        print('Frizz')\n",
    "    else:\n",
    "        print(num)"
   ]
  },
  {
   "cell_type": "code",
   "execution_count": null,
   "id": "3962f06a",
   "metadata": {},
   "outputs": [],
   "source": [
    " # For the multiples of five print \"Buzz\".\n",
    "for num in range(1,101):\n",
    "    if num % 5 == 0:\n",
    "        print('Buzz')\n",
    "    else:\n",
    "        print(num)"
   ]
  },
  {
   "cell_type": "code",
   "execution_count": null,
   "id": "14a45c76",
   "metadata": {},
   "outputs": [],
   "source": [
    "# For numbers which are multiples of both three and five print \"FizzBuzz\".\n",
    "for num in range(1,101):\n",
    "    if num % 3 == 0 and num % 5 == 0:\n",
    "        print('FizzBuzz')\n",
    "    else:\n",
    "        print(num)"
   ]
  },
  {
   "cell_type": "code",
   "execution_count": null,
   "id": "12ef77de",
   "metadata": {},
   "outputs": [],
   "source": [
    "# complete \n",
    "for num in range(1,101):\n",
    "    if num % 3 == 0 and num % 5 == 0:\n",
    "        print('FizzBuzz')\n",
    "    elif num % 3 == 0:\n",
    "        print('Frizz')\n",
    "    elif num % 5 == 0:\n",
    "        print('Buzz')\n",
    "    else:\n",
    "        print(num)\n",
    "        \n",
    "    "
   ]
  },
  {
   "cell_type": "markdown",
   "id": "722789fd",
   "metadata": {},
   "source": [
    "## 4 \n",
    "- Prompt the user to enter an integer.\n",
    "- Display a table of squares and cubes from 1 to the value entered.\n",
    "- Ask if the user wants to continue.\n",
    "- Assume that the user will enter valid data.\n",
    "- Only continue if the user agrees to."
   ]
  },
  {
   "cell_type": "code",
   "execution_count": null,
   "id": "386b3017",
   "metadata": {},
   "outputs": [],
   "source": [
    "num = input('please enter positive interger: ')\n",
    "\n",
    "print('Hree is your table!')\n",
    "print('number|square|cubed')\n",
    "print('-----|-------|-----')\n",
    "\n",
    "num = int(num)\n",
    "for i in range(1, num +1):\n",
    "    print(f\"    {i}|   {i**2}   |  {i**3}\")\n",
    "\n",
    "    \n"
   ]
  },
  {
   "cell_type": "markdown",
   "id": "33718f0f",
   "metadata": {},
   "source": [
    "## 5\n",
    "Convert given number grades into letter grades.\n",
    "\n",
    "- Prompt the user for a numerical grade from 0 to 100.\n",
    "- Display the corresponding letter grade.\n",
    "- Prompt the user to continue.\n",
    "- Assume that the user will enter valid integers for the grades.\n",
    "- The application should only continue if the user agrees to.\n",
    "- Grade Ranges:\n",
    "\n",
    "A : 100 - 88\n",
    "B : 87 - 80\n",
    "C : 79 - 67\n",
    "D : 66 - 60\n",
    "F : 59 - 0"
   ]
  },
  {
   "cell_type": "code",
   "execution_count": null,
   "id": "995a6e00",
   "metadata": {},
   "outputs": [],
   "source": [
    "while choice.lower() in ['yes', 'y', 'si']:\n",
    "    num = input(\"Please enter the numeric grade: \")\n",
    "    num = int(num)\n",
    "    if num >= 88:\n",
    "        print(\"A\")\n",
    "    elif num >= 80:\n",
    "        print(\"B\")\n",
    "    elif num >= 67:\n",
    "        print(\"C\")\n",
    "    elif num >= 66:\n",
    "        print(\"D\")\n",
    "    else:\n",
    "        print(\"F\")\n",
    "\n",
    "    choice = input(\"Do you want to continue? Enter yes or no\")\n",
    "    if choice.lower() in ['yes', 'y', 'si']:\n",
    "        continue\n",
    "    else:\n",
    "        break  \n",
    "    \n",
    "\n",
    "    "
   ]
  },
  {
   "cell_type": "markdown",
   "id": "a1b99815",
   "metadata": {},
   "source": [
    "##  6\n",
    "Create a list of dictionaries where each dictionary represents a book that you have read. Each dictionary in the list should have the keys 'title', 'author', and 'genre'. Loop through the list and print out information about each book.\n",
    " - a. Prompt the user to enter a genre, then loop through your books list and print out the titles of all the books in that genre."
   ]
  },
  {
   "cell_type": "code",
   "execution_count": null,
   "id": "c0cdcae3",
   "metadata": {},
   "outputs": [],
   "source": [
    "books = [{'title':'AAA', 'author': 'aaa', 'genre': 'music'}, \n",
    "         {'title':'BBB', 'author': 'bbb', 'genre': 'games'}, \n",
    "         {'title':'CCC', 'author': 'ccc', 'genre': 'fiction'}]\n",
    "\n",
    "for i in books:\n",
    "    title = i['title']\n",
    "    author = i['author']\n",
    "    genre = i['genre']\n",
    "    print(f'books: TITLE: {title} ---> AUTHOR: {author} ---> GENRE: {genre}\\n')"
   ]
  },
  {
   "cell_type": "code",
   "execution_count": null,
   "id": "2983290d",
   "metadata": {},
   "outputs": [],
   "source": [
    "# a. Prompt the user to enter a genre, then loop through your books list and print out the titles of all the books in that genre.\n",
    "b = input('enter a genre: ')\n",
    "for i in books:\n",
    "    title = i['title']\n",
    "    if i['genre'] == b:\n",
    "        print(f'title of book with genre {b}: {title}')"
   ]
  }
 ],
 "metadata": {
  "kernelspec": {
   "display_name": "Python 3",
   "language": "python",
   "name": "python3"
  },
  "language_info": {
   "codemirror_mode": {
    "name": "ipython",
    "version": 3
   },
   "file_extension": ".py",
   "mimetype": "text/x-python",
   "name": "python",
   "nbconvert_exporter": "python",
   "pygments_lexer": "ipython3",
   "version": "3.8.8"
  }
 },
 "nbformat": 4,
 "nbformat_minor": 5
}
