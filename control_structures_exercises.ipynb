{
 "cells": [
  {
   "cell_type": "markdown",
   "id": "19a3aaea",
   "metadata": {},
   "source": [
    "### 1 Conditional Basics\n",
    "- a. prompt the user for a day of the week, print out whether the day is   Monday or not\n",
    "\n",
    "- b. prompt the user for a day of the week, print out whether the day is   a weekday or a weekend\n",
    "\n",
    "- .c create variables and make up values for\n",
    "\n",
    "    the number of hours worked in one week\n",
    "    \n",
    "    the hourly rate\n",
    "    \n",
    "    how much the week's paycheck will be\n",
    "    \n",
    " write the python code that calculates the weekly paycheck. You get paid time and a half if you work more than 40 hours"
   ]
  },
  {
   "cell_type": "code",
   "execution_count": null,
   "id": "84b3897c",
   "metadata": {},
   "outputs": [],
   "source": [
    "# a. prompt the user for a day of the week, print out whether the day is   Monday or no\n",
    "\n",
    "def is_it_monday():\n",
    "    x = input('What day of the week is today? ')\n",
    "    if x.lower() == 'monday':\n",
    "        print('  bless Mondays')\n",
    "    else:\n",
    "        print('Sorry, it is not Monday')\n",
    "\n",
    "print(is_it_monday())"
   ]
  },
  {
   "cell_type": "code",
   "execution_count": null,
   "id": "08afb70c",
   "metadata": {},
   "outputs": [],
   "source": [
    "# b. prompt the user for a day of the week, print out whether the day is   a weekday or a weekend\n",
    "def weekday_or_weekend():\n",
    "    x = input('What day of the week is today? ')\n",
    "    weekend = ['saturday', 'sunday']\n",
    "    weekday = ['monday', 'tuesday', 'wednesday', 'thursday', 'friday']\n",
    "    if x.lower() in weekend:\n",
    "        return'It is the weekend!!!'\n",
    "    elif x.lower() in weekday:\n",
    "        return 'Today is a weekday'\n",
    "    else:\n",
    "        return 'You are not taking this serious =P'\n",
    "\n",
    "print(weekday_or_weekend())\n"
   ]
  },
  {
   "cell_type": "code",
   "execution_count": null,
   "id": "51ff3441",
   "metadata": {},
   "outputs": [],
   "source": [
    "# - .c create variables and make up values for\n",
    "#    the number of hours worked in one week \n",
    "#    the hourly rate   \n",
    "#    how much the week's paycheck will be\n",
    "\n",
    "def weekly_paycheck():\n",
    "    num_of_worked_per_week = int(input('How many hours did you work this week?'))\n",
    "    hourly_rate = 333\n",
    "    time_and_half = hourly_rate * 1.5\n",
    "    weekly_check = 0\n",
    "    if num_of_worked_per_week <= 0:\n",
    "        return \"No work, no paycheck\"\n",
    "    elif num_of_worked_per_week < 40:\n",
    "        weekly_check += (num_of_worked_per_week * hourly_rate)\n",
    "        return f'You will get ${weekly_check}' \n",
    "    else:\n",
    "        weekly_check += (40*hourly_rate + ((num_of_worked_per_week - 40)*time_and_half))\n",
    "        return f'You will get ${weekly_check}'\n",
    "print(weekly_paycheck())\n",
    "    \n",
    "    \n",
    "\n",
    "\n"
   ]
  },
  {
   "cell_type": "markdown",
   "id": "c957bd07",
   "metadata": {},
   "source": [
    "### 2 Loop Basics\n",
    "\n",
    "#### a.While\n",
    "\n",
    "- Create an integer variable i with a value of 5.\n",
    "- Create a while loop that runs so long as i is less than or equal to 15\n",
    "- Each loop iteration, output the current value of i, then increment i by one.\n"
   ]
  },
  {
   "cell_type": "code",
   "execution_count": null,
   "id": "4049d7aa",
   "metadata": {},
   "outputs": [],
   "source": [
    "i = 5 \n",
    "while i <= 15:\n",
    "    print(i)\n",
    "    i += 1\n"
   ]
  },
  {
   "cell_type": "markdown",
   "id": "ac1453db",
   "metadata": {},
   "source": [
    "####  \n",
    "- Create a while loop that will count by 2's starting with 0 and ending at 100. Follow each number with a new line.\n",
    "- Alter your loop to count backwards by 5's from 100 to -10.\n",
    "- Create a while loop that starts at 2, and displays the number squared on each line while the number is less than 1,000,000. \n",
    "- Write a loop that uses print to create the output shown below."
   ]
  },
  {
   "cell_type": "code",
   "execution_count": null,
   "id": "40876179",
   "metadata": {},
   "outputs": [],
   "source": [
    "# - Create a while loop that will count by 2's starting with 0 and ending at 100. Follow each number with a new line.\n",
    "count = 0\n",
    "while count != 102:\n",
    "    print(count)\n",
    "    count += 2"
   ]
  },
  {
   "cell_type": "code",
   "execution_count": null,
   "id": "354154b0",
   "metadata": {},
   "outputs": [],
   "source": [
    "# - Alter your loop to count backwards by 5's from 100 to -10.\n",
    "count = 100\n",
    "while count != -15:\n",
    "    print(count)\n",
    "    count -= 5"
   ]
  },
  {
   "cell_type": "code",
   "execution_count": null,
   "id": "4993bdeb",
   "metadata": {},
   "outputs": [],
   "source": [
    "# - Create a while loop that starts at 2, and displays the number squared on each line while the number is less than 1,000,000. Output should equal:\n",
    "\n",
    "count = 2\n",
    "while count < 1000000:\n",
    "    print(count)\n",
    "    count = count**2\n",
    "\n",
    "\n"
   ]
  },
  {
   "cell_type": "code",
   "execution_count": null,
   "id": "cc733988",
   "metadata": {},
   "outputs": [],
   "source": [
    "# Write a loop that uses print to create the output shown below.\n",
    "count = 100\n",
    "while count != 0:\n",
    "    print(count)\n",
    "    count -= 5"
   ]
  },
  {
   "cell_type": "markdown",
   "id": "e0adc712",
   "metadata": {},
   "source": [
    "### b. For Loops\n",
    "- Write some code that prompts the user for a number, then shows a multiplication table up through 10 for that number.\n",
    "- Create a for loop that uses print to create the output shown below."
   ]
  },
  {
   "cell_type": "code",
   "execution_count": null,
   "id": "7dd7c5b3",
   "metadata": {},
   "outputs": [],
   "source": [
    "# Write some code that prompts the user for a number, then shows a multiplication table up through 10 for that number.\n",
    "\n",
    "def multiplication_table():\n",
    "    x = input('pick a number:')\n",
    "    for num in range(1,11):\n",
    "        print(f'{x} x {num} = {int(x) * num}')\n",
    "print(multiplication_table())\n",
    "\n"
   ]
  },
  {
   "cell_type": "code",
   "execution_count": null,
   "id": "e95a2ae8",
   "metadata": {},
   "outputs": [],
   "source": [
    "# Create a for loop that uses print to create the output shown below.\n",
    "\n",
    "for num in range(1,10):\n",
    "    print(str(num)*num)"
   ]
  },
  {
   "cell_type": "markdown",
   "id": "d49dff61",
   "metadata": {},
   "source": [
    "### c. Break and Continue\n",
    "- Prompt the user for an odd number between 1 and 50. Use a loop and a break statement to continue prompting the user if they enter invalid input. (Hint: use the isdigit method on strings to determine this). Use a loop and the continue statement to output all the odd numbers between 1 and 50, except for the number the user entered."
   ]
  },
  {
   "cell_type": "code",
   "execution_count": null,
   "id": "4fd58319",
   "metadata": {},
   "outputs": [],
   "source": []
  },
  {
   "cell_type": "code",
   "execution_count": null,
   "id": "4d8311c1",
   "metadata": {},
   "outputs": [],
   "source": [
    "while True:\n",
    "    try:\n",
    "        n = int(input(\"enter an odd number between 1 and 50: \"))\n",
    "    except ValueError:\n",
    "        print(\"Try again\")\n",
    "    if n % 2 == 1:\n",
    "        break\n",
    "    for num in range(1, 51):\n",
    "        if num == n or num % 2 == 0: continue\n",
    "        print(num)"
   ]
  },
  {
   "cell_type": "code",
   "execution_count": 4,
   "id": "fcaf5889",
   "metadata": {},
   "outputs": [
    {
     "ename": "SyntaxError",
     "evalue": "EOL while scanning string literal (<ipython-input-4-60e81fa16603>, line 8)",
     "output_type": "error",
     "traceback": [
      "\u001b[0;36m  File \u001b[0;32m\"<ipython-input-4-60e81fa16603>\"\u001b[0;36m, line \u001b[0;32m8\u001b[0m\n\u001b[0;31m    print(f\"Number to skip is: {odd_in})\u001b[0m\n\u001b[0m                                        ^\u001b[0m\n\u001b[0;31mSyntaxError\u001b[0m\u001b[0;31m:\u001b[0m EOL while scanning string literal\n"
     ]
    }
   ],
   "source": [
    "odd_in: int(input(\"Enter an odd number between 1 and 50: \"))\n",
    "while True:\n",
    "    if odd_in.isdigit() == False:\n",
    "        print('Please enter an odd number')\n",
    "        print(x for x in range(1, 50) if x % 3 == 0)\n",
    "        continue\n",
    "    if odd_in < 1 and odd_in < 50 and odd_in % 3 == 0:\n",
    "        print(f\"Number to skip is: {odd_in})\n",
    "        print()\n",
    "        \n",
    "    \n",
    "    \n",
    "    "
   ]
  },
  {
   "cell_type": "code",
   "execution_count": 3,
   "id": "df48543c",
   "metadata": {},
   "outputs": [
    {
     "name": "stdout",
     "output_type": "stream",
     "text": [
      "Enter an odd number between 1 and 50: 5\n"
     ]
    },
    {
     "ename": "NameError",
     "evalue": "name 'odd_in' is not defined",
     "output_type": "error",
     "traceback": [
      "\u001b[0;31m---------------------------------------------------------------------------\u001b[0m",
      "\u001b[0;31mNameError\u001b[0m                                 Traceback (most recent call last)",
      "\u001b[0;32m<ipython-input-3-41432647d266>\u001b[0m in \u001b[0;36m<module>\u001b[0;34m\u001b[0m\n\u001b[1;32m      1\u001b[0m \u001b[0;32mwhile\u001b[0m \u001b[0;32mTrue\u001b[0m\u001b[0;34m:\u001b[0m\u001b[0;34m\u001b[0m\u001b[0;34m\u001b[0m\u001b[0m\n\u001b[1;32m      2\u001b[0m     \u001b[0modd_in\u001b[0m\u001b[0;34m:\u001b[0m \u001b[0mint\u001b[0m\u001b[0;34m(\u001b[0m\u001b[0minput\u001b[0m\u001b[0;34m(\u001b[0m\u001b[0;34m\"Enter an odd number between 1 and 50: \"\u001b[0m\u001b[0;34m)\u001b[0m\u001b[0;34m)\u001b[0m\u001b[0;34m\u001b[0m\u001b[0;34m\u001b[0m\u001b[0m\n\u001b[0;32m----> 3\u001b[0;31m     \u001b[0;32mif\u001b[0m \u001b[0modd_in\u001b[0m \u001b[0;34m<\u001b[0m \u001b[0;36m1\u001b[0m \u001b[0;32mand\u001b[0m \u001b[0modd_in\u001b[0m \u001b[0;34m<\u001b[0m \u001b[0;36m50\u001b[0m \u001b[0;32mand\u001b[0m \u001b[0modd_in\u001b[0m \u001b[0;34m%\u001b[0m \u001b[0;36m3\u001b[0m \u001b[0;34m==\u001b[0m \u001b[0;36m0\u001b[0m\u001b[0;34m:\u001b[0m\u001b[0;34m\u001b[0m\u001b[0;34m\u001b[0m\u001b[0m\n\u001b[0m\u001b[1;32m      4\u001b[0m         \u001b[0mprint\u001b[0m\u001b[0;34m(\u001b[0m\u001b[0;34mf'Number to skip is: {odd_in}'\u001b[0m\u001b[0;34m)\u001b[0m\u001b[0;34m\u001b[0m\u001b[0;34m\u001b[0m\u001b[0m\n\u001b[1;32m      5\u001b[0m         \u001b[0mprint\u001b[0m\u001b[0;34m(\u001b[0m\u001b[0;34mf'here is and odd number: {x for x in range(1, 50) if x % 3 == 0}'\u001b[0m\u001b[0;34m)\u001b[0m\u001b[0;34m\u001b[0m\u001b[0;34m\u001b[0m\u001b[0m\n",
      "\u001b[0;31mNameError\u001b[0m: name 'odd_in' is not defined"
     ]
    }
   ],
   "source": [
    "while True:\n",
    "    odd_in: int(input(\"Enter an odd number between 1 and 50: \"))\n",
    "    if odd_in < 1 and odd_in < 50 and odd_in % 3 == 0:\n",
    "        print(f'Number to skip is: {odd_in}')\n",
    "        print(f'here is and odd number: {x for x in range(1, 50) if x % 3 == 0}')"
   ]
  },
  {
   "cell_type": "code",
   "execution_count": 1,
   "id": "7f4690b7",
   "metadata": {},
   "outputs": [
    {
     "name": "stdout",
     "output_type": "stream",
     "text": [
      "8\n"
     ]
    }
   ],
   "source": []
  },
  {
   "cell_type": "code",
   "execution_count": null,
   "id": "d3dbebc0",
   "metadata": {},
   "outputs": [],
   "source": []
  }
 ],
 "metadata": {
  "kernelspec": {
   "display_name": "Python 3",
   "language": "python",
   "name": "python3"
  },
  "language_info": {
   "codemirror_mode": {
    "name": "ipython",
    "version": 3
   },
   "file_extension": ".py",
   "mimetype": "text/x-python",
   "name": "python",
   "nbconvert_exporter": "python",
   "pygments_lexer": "ipython3",
   "version": "3.8.8"
  }
 },
 "nbformat": 4,
 "nbformat_minor": 5
}
