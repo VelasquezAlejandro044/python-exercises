{
 "cells": [
  {
   "cell_type": "markdown",
   "metadata": {},
   "source": [
    "#### BY: AV"
   ]
  },
  {
   "cell_type": "markdown",
   "id": "f326719d",
   "metadata": {},
   "source": [
    "# 1\n",
    "\n",
    "Import and test 3 of the functions from your functions exercise file. Import each function in a different way:"
   ]
  },
  {
   "cell_type": "markdown",
   "id": "0b050faf",
   "metadata": {},
   "source": [
    "# 1a\n",
    "Run an interactive python session and import the module. Call the is_vowel function using the . syntax."
   ]
  },
  {
   "cell_type": "markdown",
   "id": "e4d20bde",
   "metadata": {},
   "source": [
    "  "
   ]
  },
  {
   "cell_type": "code",
   "execution_count": null,
   "id": "af7151d0",
   "metadata": {},
   "outputs": [],
   "source": [
    "import import_funcs"
   ]
  },
  {
   "cell_type": "code",
   "execution_count": null,
   "id": "451bc326",
   "metadata": {},
   "outputs": [],
   "source": [
    "print(import_funcs.is_vowel('F'))"
   ]
  },
  {
   "cell_type": "markdown",
   "id": "398d18c0",
   "metadata": {},
   "source": [
    "## 2a\n",
    "Create a file named import_exericses.py. Within this file, use from to import the calculate_tip function directly. Call this function with values you choose and print the result."
   ]
  },
  {
   "cell_type": "code",
   "execution_count": null,
   "id": "87566723",
   "metadata": {},
   "outputs": [],
   "source": [
    "# File has been created\n",
    "# Solution: \n",
    "from import_funcs import calculate_tip as ct\n",
    "print(ct(.25, 9854))"
   ]
  },
  {
   "cell_type": "markdown",
   "id": "74cf53d5",
   "metadata": {},
   "source": [
    "## 1c\n",
    "Create a jupyter notebook named import_exercises.ipynb. Use from to import the get_letter_grade function and give it an alias. Test this function in your notebook."
   ]
  },
  {
   "cell_type": "code",
   "execution_count": null,
   "id": "76fdd5a7",
   "metadata": {},
   "outputs": [],
   "source": [
    "from import_funcs import get_letter_grade as gl\n",
    "print(gl(88))"
   ]
  },
  {
   "cell_type": "markdown",
   "id": "7962c219",
   "metadata": {},
   "source": [
    "# 2\n",
    "Read about and use the itertools module from the python standard library to help you solve the following problems:"
   ]
  },
  {
   "cell_type": "markdown",
   "id": "3890260d",
   "metadata": {},
   "source": [
    "\n",
    "- How many different combinations are there of 2 letters from \"abcd\"?\n",
    "\n",
    "- How many different permutations are there of 2 letters from \"abcd\"?\n"
   ]
  },
  {
   "cell_type": "code",
   "execution_count": null,
   "id": "c280694c",
   "metadata": {},
   "outputs": [],
   "source": [
    "import itertools"
   ]
  },
  {
   "cell_type": "markdown",
   "id": "c4d1c95e",
   "metadata": {},
   "source": [
    "## 2a\n",
    "- How many different ways can you combine the letters from \"abc\" with the numbers 1, 2, and 3?"
   ]
  },
  {
   "cell_type": "code",
   "execution_count": null,
   "id": "f18262cb",
   "metadata": {},
   "outputs": [],
   "source": [
    "test = ['1', '2', '3', 'a', 'b', 'c']\n",
    "def combination_counter(x):\n",
    "    from itertools import permutations\n",
    "     # Get all permutations ]\n",
    "    perm = permutations(x)\n",
    "    combination_count = []\n",
    "    # Print the obtained permutations\n",
    "    for i in list(perm):\n",
    "        combination_count += i\n",
    "    return len(combination_count)\n",
    "print(combination_counter(test))"
   ]
  },
  {
   "cell_type": "code",
   "execution_count": null,
   "id": "ee73d565",
   "metadata": {},
   "outputs": [],
   "source": [
    "# Final answer\n",
    "def combination_counter2(x):\n",
    "    return len(list(itertools.permutations(x)))\n",
    "print(combination_counter2(test))"
   ]
  },
  {
   "cell_type": "markdown",
   "id": "57e18e55",
   "metadata": {},
   "source": [
    "## 2b\n",
    "How many different combinations are there of 2 letters from \"abcd\"?"
   ]
  },
  {
   "cell_type": "code",
   "execution_count": null,
   "id": "eb44aec0",
   "metadata": {},
   "outputs": [],
   "source": [
    "len(list(itertools.combinations('ABCD', 2)))"
   ]
  },
  {
   "cell_type": "markdown",
   "id": "25ef1a30",
   "metadata": {},
   "source": [
    " ## 2c\n",
    "How many different permutations are there of 2 letters from \"abcd\"?"
   ]
  },
  {
   "cell_type": "code",
   "execution_count": null,
   "id": "05f5a250",
   "metadata": {},
   "outputs": [],
   "source": [
    "len(list(itertools.permutations('ABCD', 2)))"
   ]
  },
  {
   "cell_type": "markdown",
   "id": "a2aaadbc",
   "metadata": {},
   "source": [
    "# 3 \n",
    "Save this file as profiles.json inside of your exercises directory (right click -> save file as...).\n",
    "\n",
    "Use the load function from the json module to open this file."
   ]
  },
  {
   "cell_type": "code",
   "execution_count": null,
   "id": "1feabe5c",
   "metadata": {},
   "outputs": [],
   "source": [
    "import json\n",
    "json.load(open('profiles.json'))"
   ]
  },
  {
   "cell_type": "code",
   "execution_count": null,
   "id": "b2feee34",
   "metadata": {},
   "outputs": [],
   "source": [
    "# Name the data\n",
    "d = json.load(open('profiles.json')) \n",
    "\n",
    "# 3a. Total number of users = 19\n",
    "count_users = len(set([user[\"_id\"] for user in d]))\n",
    "\n",
    "# 3b. Number of active users = 9\n",
    "active_users = len([user[\"isActive\"] for user in d if user[\"isActive\"] == True])\n",
    "\n",
    "# 3c. Number of inactive users = 10\n",
    "inactive_users = len([user[\"isActive\"] for user in d if user[\"isActive\"] == False])\n",
    "\n",
    "# 3d. Grand total of balances for all users = $52667.02\n",
    "Grand_total_balance = sum([int(round(float(user[\"balance\"].replace(\"$\",\"\").replace(\",\",\"\"))*100)) for user in d ]) / 100\n",
    "\n",
    "# 3e. Average balance per user\n",
    "Average_balance_per_user = round((Grand_total_balance / count_users), 2)\n",
    "\n",
    "# 3f. User with the lowest balance\n",
    "lowest_balance = min([user[\"balance\"] for user in d ])\n",
    "lowest_balance_user = [x[\"name\"] for x in d if x[\"balance\"] == lowest_balance]\n",
    "\n",
    "# 3g. User with the highest balance\n",
    "highest_balance = max([user[\"balance\"] for user in d ])\n",
    "highest_balance_user = [x[\"name\"] for x in d if x[\"balance\"] == highest_balance]\n",
    "\n",
    "# 3h. Most common favorite fruit = strawberry = 9\n",
    "def Most_common_favorite_fruit():\n",
    "    fruits = list(set([x[\"favoriteFruit\"] for x in d]))\n",
    "    fav_fruits = [x[\"favoriteFruit\"] for x in d]\n",
    "    i=-1\n",
    "    for fruit in fruits:\n",
    "        i += 1\n",
    "        print(f\" {fruit} = {(fav_fruits.count(fruits[i]))}\")\n",
    "        \n",
    "#print(Most_common_favorite_fruit())\n",
    "# 3i. Least most common favorite fruit\n",
    "\n",
    "# 3j. Total number of unread messages for all users = 210\n",
    "greetings = [user[\"greeting\"] for user in d]\n",
    "numbers = sum([int(word) for str_ in greetings for word in str_.split() if word.isdigit()])\n",
    "\n",
    "#print(numbers)"
   ]
  }
 ],
 "metadata": {
  "kernelspec": {
   "display_name": "Python 3",
   "language": "python",
   "name": "python3"
  },
  "language_info": {
   "codemirror_mode": {
    "name": "ipython",
    "version": 3
   },
   "file_extension": ".py",
   "mimetype": "text/x-python",
   "name": "python",
   "nbconvert_exporter": "python",
   "pygments_lexer": "ipython3",
   "version": "3.8.8"
  }
 },
 "nbformat": 4,
 "nbformat_minor": 5
}
